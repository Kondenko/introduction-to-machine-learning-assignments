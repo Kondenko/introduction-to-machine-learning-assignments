{
 "cells": [
  {
   "cell_type": "markdown",
   "metadata": {},
   "source": [
    "### Подход 1: градиентный бустинг \"в лоб\""
   ]
  },
  {
   "cell_type": "code",
   "execution_count": null,
   "metadata": {
    "pycharm": {
     "is_executing": false
    },
    "scrolled": true
   },
   "outputs": [],
   "source": [
    "%load_ext autoreload\n",
    "%autoreload 2\n",
    "%matplotlib inline"
   ]
  },
  {
   "cell_type": "code",
   "execution_count": null,
   "metadata": {
    "pycharm": {
     "is_executing": true
    },
    "scrolled": true
   },
   "outputs": [],
   "source": [
    "from datetime import datetime\n",
    "import pandas as p\n",
    "from numpy import average\n",
    "import sklearn\n",
    "from sklearn.model_selection import KFold, cross_val_score\n",
    "from sklearn.ensemble import GradientBoostingClassifier\n",
    "import matplotlib.pyplot as plt"
   ]
  },
  {
   "cell_type": "code",
   "execution_count": null,
   "metadata": {
    "pycharm": {
     "is_executing": true,
     "name": "#%%\n"
    },
    "scrolled": true
   },
   "outputs": [],
   "source": [
    "features = p.read_csv('./features.csv', index_col='match_id')\n",
    "features_test = p.read_csv('./features_test.csv', index_col='match_id')\n",
    "features_train = features.drop(columns=[\n",
    "     \"duration\", \n",
    "     \"radiant_win\",\n",
    "     \"tower_status_radiant\",\n",
    "     \"tower_status_dire\",\n",
    "     \"barracks_status_dire\",\n",
    "     \"barracks_status_radiant\"\n",
    "])"
   ]
  },
  {
   "cell_type": "code",
   "execution_count": null,
   "metadata": {
    "pycharm": {
     "is_executing": true
    },
    "scrolled": false
   },
   "outputs": [],
   "source": [
    "values_count = features_train.count().sort_values(ascending=True)"
   ]
  },
  {
   "cell_type": "markdown",
   "metadata": {},
   "source": [
    "#### Какие признаки имеют пропуски среди своих значений? Что могут означать пропуски в этих признаках (ответьте на этот вопрос для двух любых признаков)?"
   ]
  },
  {
   "cell_type": "code",
   "execution_count": null,
   "metadata": {
    "pycharm": {
     "is_executing": true,
     "name": "#%%\n"
    },
    "scrolled": true
   },
   "outputs": [],
   "source": [
    "rows = values_count.max()\n",
    "\n",
    "print(\"Количество пропусков\\n\")\n",
    "for (feature, val) in sorted(values_count.iteritems()):\n",
    "    values_missing = rows - val\n",
    "    if values_missing > 0:\n",
    "        print(f\"{feature}: {values_missing}\")"
   ]
  },
  {
   "cell_type": "markdown",
   "metadata": {},
   "source": [
    "Много значений пропущено в колонках, касающихся First Blood (first_blood_player1, first_blood_player2, first_blood_time, first_blood_team). Это значит, что игроки никого не убили за первые 5 минут матча.\n",
    "\n",
    "Пропуски в *_bottle_time, *_courier_time и *_flying_courier_time означают, что соответствующая команда не купила эти предметы за первые 5 минут.\n",
    "\n",
    "Пропуски в *_first_ward_time означают, что команда не поставила ни одного наблюдателя за 5 минут."
   ]
  },
  {
   "cell_type": "code",
   "execution_count": null,
   "metadata": {
    "pycharm": {
     "is_executing": true
    },
    "scrolled": true
   },
   "outputs": [],
   "source": [
    "features_train = features_train.fillna(value=0)"
   ]
  },
  {
   "cell_type": "markdown",
   "metadata": {},
   "source": [
    "#### 2. Как называется столбец, содержащий целевую переменную?"
   ]
  },
  {
   "cell_type": "code",
   "execution_count": null,
   "metadata": {
    "pycharm": {
     "is_executing": true
    },
    "scrolled": true
   },
   "outputs": [],
   "source": [
    "Y_col = \"radiant_win\"\n",
    "\n",
    "\n",
    "X = features_train\n",
    "y = features[Y_col]"
   ]
  },
  {
   "cell_type": "markdown",
   "metadata": {},
   "source": [
    "#### 3. Как долго проводилась кросс-валидация для градиентного бустинга с 30 деревьями? Инструкцию по измерению времени можно найти ниже по тексту. Какое качество при этом получилось? Напомним, что в данном задании мы используем метрику качества AUC-ROC."
   ]
  },
  {
   "cell_type": "code",
   "execution_count": null,
   "metadata": {
    "pycharm": {
     "is_executing": true,
     "name": "#%%\n"
    },
    "scrolled": true
   },
   "outputs": [],
   "source": [
    "kfold = KFold(shuffle=True, n_splits=5)"
   ]
  },
  {
   "cell_type": "raw",
   "metadata": {
    "pycharm": {
     "is_executing": true,
     "name": "#%%\n"
    }
   },
   "source": [
    "for n_estimators in range(30, 70, 10):\n",
    "    print(f\"Обучается классификатор с {n_estimators} деревьями\")\n",
    "    start_time = datetime.now()\n",
    "    clf = GradientBoostingClassifier(n_estimators=n_estimators)\n",
    "    # взятие вероятностей 2 класса (clf.predict_proba(X_test)[:, 1]) вшито в roc_auc скоринг\n",
    "    # [sklearn/metrics/_scorer.py:249]\n",
    "    scores = cross_val_score(estimator=clf, X=features_train, y=y, cv=kfold, scoring=\"roc_auc\")  \n",
    "    avg_score = average(scores)\n",
    "    exec_time = datetime.now() - start_time\n",
    "    print(f\"Среднее значения качества: {avg_score} (за {exec_time}мс)\\n\")"
   ]
  },
  {
   "cell_type": "markdown",
   "metadata": {},
   "source": [
    "Обучается классификатор с 10 деревьями\n",
    "Среднее значения качества: 0.6646291455551827 (за 0:01:12.878092мс)\n",
    "\n",
    "Обучается классификатор с 20 деревьями\n",
    "Среднее значения качества: 0.6809860273308972 (за 0:02:18.501172мс)\n",
    "\n",
    "**Обучается классификатор с 30 деревьями\n",
    "Среднее значения качества: 0.6900458742897161 (за 0:03:09.979634мс)**\n",
    "\n",
    "Обучается классификатор с 40 деревьями\n",
    "Среднее значения качества: 0.694294321131233 (за 0:04:12.675311мс)\n",
    "\n",
    "Обучается классификатор с 50 деревьями\n",
    "Среднее значения качества: 0.6977442051399642 (за 0:05:26.558180мс)\n",
    "\n",
    "Обучается классификатор с 60 деревьями\n",
    "Среднее значения качества: 0.7002027254594443 (за 0:06:49.034804мс)\n",
    "\n",
    "Обучается классификатор с 70 деревьями\n",
    "Среднее значения качества: 0.7019988271689213 (за 0:07:50.472654мс)\n",
    "\n",
    "Обучается классификатор с 80 деревьями\n",
    "Среднее значения качества: 0.7047217159467425 (за 0:09:17.449093мс)\n",
    "\n",
    "Обучается классификатор с 90 деревьями\n",
    "Среднее значения качества: 0.7058723237655931 (за 0:09:42.171533мс)\n",
    "\n",
    "Обучается классификатор с 100 деревьями\n",
    "Среднее значения качества: 0.7069479623025787 (за 0:11:31.993495мс)"
   ]
  },
  {
   "cell_type": "markdown",
   "metadata": {},
   "source": [
    "#### 4. Имеет ли смысл использовать больше 30 деревьев в градиентном бустинге? Что бы вы предложили делать, чтобы ускорить его обучение при увеличении количества деревьев?"
   ]
  },
  {
   "cell_type": "markdown",
   "metadata": {},
   "source": [
    "При количества деревьев больше 30 качество продолжает расти, не медленее. При 80+ рост замедляется ещё сильнее. К тому же, время на обучение начинает заметно увеличиваться.\n",
    "Это значит, что оптимально испольховать 60 деревьев.\n",
    "\n",
    "Чтобы ускорить обучение, можно использовать метод главных компонент."
   ]
  },
  {
   "cell_type": "markdown",
   "metadata": {},
   "source": [
    "### Подход 2: логистическая регрессия"
   ]
  },
  {
   "cell_type": "markdown",
   "metadata": {},
   "source": [
    "Отмасштабируем признаки"
   ]
  },
  {
   "cell_type": "code",
   "execution_count": null,
   "metadata": {
    "pycharm": {
     "is_executing": true
    },
    "scrolled": false
   },
   "outputs": [],
   "source": [
    "from sklearn.preprocessing import StandardScaler \n",
    "import numpy as np\n",
    "\n",
    "scaler = StandardScaler()\n",
    "X_scaled_array = scaler.fit_transform(X.astype(np.float64))\n",
    "X_scaled = p.DataFrame(data=X_scaled_array, index=X.index, columns=X.columns)"
   ]
  },
  {
   "cell_type": "markdown",
   "metadata": {},
   "source": [
    "**1. Какое качество получилось у логистической регрессии над всеми исходными признаками? Как оно соотносится с качеством градиентного бустинга? Чем вы можете объяснить эту разницу? Быстрее ли работает логистическая регрессия по сравнению с градиентным бустингом?**"
   ]
  },
  {
   "cell_type": "code",
   "execution_count": null,
   "metadata": {
    "pycharm": {
     "is_executing": true
    },
    "scrolled": true
   },
   "outputs": [],
   "source": [
    "from sklearn.linear_model import LogisticRegressionCV\n",
    "from sklearn.metrics import roc_auc_score\n",
    "from numpy import linspace\n",
    "from sklearn.decomposition import PCA \n",
    "\n",
    "def _fit_and_score_(X, y, c):\n",
    "    ll_clf = LogisticRegressionCV(cv=kfold, penalty='l2')\n",
    "    ll_clf.scoring = \"roc_auc\"\n",
    "    ll_clf.C = c\n",
    "    ll_clf.fit(X, y)\n",
    "    return ll_clf, ll_clf.score(X, y)\n",
    "    \n",
    "def fit_log_reg(X):\n",
    "    best_score = None\n",
    "    best_c = None\n",
    "    best_clf = None\n",
    "    for c in linspace(0.00001, 0.001, num=5):\n",
    "        start_time = datetime.now()\n",
    "        print(f\"Обучается LogisticRegressionCV с C={c}\")\n",
    "        ll_clf, avg_score = _fit_and_score_(X, y, c)\n",
    "        if best_score is None or avg_score > best_score:\n",
    "            best_score = avg_score\n",
    "            best_c = c\n",
    "            best_clf = ll_clf\n",
    "        exec_time = datetime.now() - start_time    \n",
    "        print(f\"Средний AUC-ROC = {avg_score} найден за {exec_time}мс\")\n",
    "    _plot_(best_c, X, best_clf)\n",
    "    return best_score, best_c"
   ]
  },
  {
   "cell_type": "code",
   "execution_count": null,
   "metadata": {
    "pycharm": {
     "name": "#%%\n"
    },
    "scrolled": true
   },
   "outputs": [],
   "source": [
    "score, c = fit_log_reg(X_scaled)\n",
    "print(f\"\\n🏆 Лучшее качество логистической регрессии = {score} (при c={c})\")"
   ]
  },
  {
   "cell_type": "markdown",
   "metadata": {},
   "source": [
    "🏆 Лучшее качество логистической регрессии = 0.7179729170730196 (при c=0.001)"
   ]
  },
  {
   "cell_type": "markdown",
   "metadata": {},
   "source": [
    "Качество регрессии получилось примерно таким же, как при бустинге (~0.7). Я думаю, это обусловлено тем, что я никак не изменил датасет (не считая масштабирования). Но регрессия работает примерно в 20 раз быстрее бустинга — около 20 секунд против 7 минут."
   ]
  },
  {
   "cell_type": "markdown",
   "metadata": {},
   "source": [
    "**2. Как влияет на качество логистической регрессии удаление категориальных признаков (укажите новое значение метрики качества)? Чем вы можете объяснить это изменение?**"
   ]
  },
  {
   "cell_type": "markdown",
   "metadata": {},
   "source": [
    "Уберем категориальные признаки из выборки"
   ]
  },
  {
   "cell_type": "code",
   "execution_count": null,
   "metadata": {
    "scrolled": true
   },
   "outputs": [],
   "source": [
    "from itertools import chain\n",
    "\n",
    "categorial_features = list(chain.from_iterable((f\"r{i}_hero\", f\"d{i}_hero\") for i in range(1, 6))) # heroes\n",
    "categorial_features += [\"lobby_type\"]"
   ]
  },
  {
   "cell_type": "code",
   "execution_count": null,
   "metadata": {
    "scrolled": true
   },
   "outputs": [],
   "source": [
    "X_with_no_categorial_features = X_scaled.filter([x for x in X_scaled.columns if x not in categorial_features])"
   ]
  },
  {
   "cell_type": "markdown",
   "metadata": {},
   "source": [
    "Обучим регрессию на выборке без категориальных признаков"
   ]
  },
  {
   "cell_type": "code",
   "execution_count": null,
   "metadata": {},
   "outputs": [],
   "source": [
    "score, с = fit_log_reg(X_with_no_categorial_features)\n",
    "print(f\"🏆 Лучшее качество на выборке без категориальных признаков: {score} (c={c})\")"
   ]
  },
  {
   "cell_type": "markdown",
   "metadata": {},
   "source": [
    "🏆 Лучшее качество на выборке без категориальных признаков: 0.7178321808820098 (c=0.001)"
   ]
  },
  {
   "cell_type": "markdown",
   "metadata": {},
   "source": [
    "Качество получилось чуть хуже, чем на выборке с категориальными признаками (0.7178). Возможно, оно не изменилось потому, что эти признаки не влияли на результат."
   ]
  }
 ],
 "metadata": {
  "kernelspec": {
   "display_name": "Python 3",
   "language": "python",
   "name": "python3"
  },
  "language_info": {
   "codemirror_mode": {
    "name": "ipython",
    "version": 3
   },
   "file_extension": ".py",
   "mimetype": "text/x-python",
   "name": "python",
   "nbconvert_exporter": "python",
   "pygments_lexer": "ipython3",
   "version": "3.7.1"
  },
  "pycharm": {
   "stem_cell": {
    "cell_type": "raw",
    "metadata": {
     "collapsed": false
    },
    "source": []
   }
  }
 },
 "nbformat": 4,
 "nbformat_minor": 1
}
