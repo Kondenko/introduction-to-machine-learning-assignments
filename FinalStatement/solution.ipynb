{
 "cells": [
  {
   "cell_type": "markdown",
   "metadata": {},
   "source": [
    "### Подход 1: градиентный бустинг \"в лоб\""
   ]
  },
  {
   "cell_type": "code",
   "execution_count": 1,
   "metadata": {},
   "outputs": [],
   "source": [
    "%load_ext autoreload\n",
    "%autoreload 2"
   ]
  },
  {
   "cell_type": "code",
   "execution_count": 2,
   "metadata": {
    "pycharm": {
     "is_executing": false
    }
   },
   "outputs": [],
   "source": [
    "from datetime import datetime\n",
    "import pandas as p\n",
    "from numpy import average\n",
    "import sklearn\n",
    "from sklearn.model_selection import KFold, cross_val_score\n",
    "from sklearn.ensemble import GradientBoostingClassifier"
   ]
  },
  {
   "cell_type": "code",
   "execution_count": 3,
   "metadata": {
    "pycharm": {
     "is_executing": false,
     "name": "#%%\n"
    }
   },
   "outputs": [],
   "source": [
    "features = p.read_csv('./features.csv', index_col='match_id')\n",
    "features_test = p.read_csv('./features_test.csv', index_col='match_id')\n",
    "features_train = features.drop(columns=[\n",
    "     \"duration\", \n",
    "     \"radiant_win\",\n",
    "     \"tower_status_radiant\",\n",
    "     \"tower_status_dire\",\n",
    "     \"barracks_status_dire\",\n",
    "     \"barracks_status_radiant\"\n",
    "])"
   ]
  },
  {
   "cell_type": "code",
   "execution_count": 4,
   "metadata": {
    "pycharm": {
     "is_executing": false
    },
    "scrolled": true
   },
   "outputs": [],
   "source": [
    "values_count = features_train.count().sort_values(ascending=True)"
   ]
  },
  {
   "cell_type": "markdown",
   "metadata": {},
   "source": [
    "#### Какие признаки имеют пропуски среди своих значений? Что могут означать пропуски в этих признаках (ответьте на этот вопрос для двух любых признаков)?"
   ]
  },
  {
   "cell_type": "code",
   "execution_count": 5,
   "metadata": {
    "pycharm": {
     "is_executing": false,
     "name": "#%%\n"
    }
   },
   "outputs": [
    {
     "name": "stdout",
     "output_type": "stream",
     "text": [
      "Количество пропусков\n",
      "\n",
      "dire_bottle_time: 16143\n",
      "dire_courier_time: 676\n",
      "dire_first_ward_time: 1826\n",
      "dire_flying_courier_time: 26098\n",
      "first_blood_player1: 19553\n",
      "first_blood_player2: 43987\n",
      "first_blood_team: 19553\n",
      "first_blood_time: 19553\n",
      "radiant_bottle_time: 15691\n",
      "radiant_courier_time: 692\n",
      "radiant_first_ward_time: 1836\n",
      "radiant_flying_courier_time: 27479\n"
     ]
    }
   ],
   "source": [
    "rows = values_count.max()\n",
    "\n",
    "print(\"Количество пропусков\\n\")\n",
    "for (feature, val) in sorted(values_count.iteritems()):\n",
    "    values_missing = rows - val\n",
    "    if values_missing > 0:\n",
    "        print(f\"{feature}: {values_missing}\")"
   ]
  },
  {
   "cell_type": "markdown",
   "metadata": {},
   "source": [
    "Много значений пропущено в колонках, касающихся First Blood (first_blood_player1, first_blood_player2, first_blood_time, first_blood_team). Это значит, что игроки никого не убили за первые 5 минут матча.\n",
    "\n",
    "Пропуски в *_bottle_time, *_courier_time и *_flying_courier_time означают, что соответствующая команда не купила эти предметы за первые 5 минут.\n",
    "\n",
    "Пропуски в *_first_ward_time означают, что команда не поставила ни одного наблюдателя за 5 минут."
   ]
  },
  {
   "cell_type": "code",
   "execution_count": 6,
   "metadata": {
    "pycharm": {
     "is_executing": false
    }
   },
   "outputs": [],
   "source": [
    "features_train = features_train.fillna(value=0)"
   ]
  },
  {
   "cell_type": "markdown",
   "metadata": {},
   "source": [
    "#### 2. Как называется столбец, содержащий целевую переменную?"
   ]
  },
  {
   "cell_type": "code",
   "execution_count": 7,
   "metadata": {
    "pycharm": {
     "is_executing": false
    }
   },
   "outputs": [],
   "source": [
    "Y_col = \"radiant_win\"\n",
    "\n",
    "\n",
    "X = features_train\n",
    "y = features[Y_col]"
   ]
  },
  {
   "cell_type": "markdown",
   "metadata": {},
   "source": [
    "#### 3. Как долго проводилась кросс-валидация для градиентного бустинга с 30 деревьями? Инструкцию по измерению времени можно найти ниже по тексту. Какое качество при этом получилось? Напомним, что в данном задании мы используем метрику качества AUC-ROC."
   ]
  },
  {
   "cell_type": "code",
   "execution_count": 8,
   "metadata": {
    "pycharm": {
     "name": "#%%\n"
    }
   },
   "outputs": [],
   "source": [
    "kfold = KFold(shuffle=True, n_splits=5)"
   ]
  },
  {
   "cell_type": "raw",
   "metadata": {
    "pycharm": {
     "is_executing": true,
     "name": "#%% raw\n"
    }
   },
   "source": [
    "for n_estimators in range(10, 20, 10):\n",
    "    print(f\"Обучается классификатор с {n_estimators} деревьями\")\n",
    "    start_time = datetime.now()\n",
    "    clf = GradientBoostingClassifier(n_estimators=n_estimators)\n",
    "    scores = cross_val_score(estimator=clf, X=features_train, y=y, cv=kfold, scoring=\"roc_auc\")\n",
    "    avg_score = average(scores)\n",
    "    exec_time = datetime.now() - start_time\n",
    "    print(f\"Среднее значения качества: {avg_score} (за {exec_time}мс)\\n\")"
   ]
  },
  {
   "cell_type": "markdown",
   "metadata": {},
   "source": [
    "Обучается классификатор с 10 деревьями\n",
    "Среднее значения качества: 0.6646291455551827 (за 0:01:12.878092мс)\n",
    "\n",
    "Обучается классификатор с 20 деревьями\n",
    "Среднее значения качества: 0.6809860273308972 (за 0:02:18.501172мс)\n",
    "\n",
    "**Обучается классификатор с 30 деревьями\n",
    "Среднее значения качества: 0.6900458742897161 (за 0:03:09.979634мс)**\n",
    "\n",
    "Обучается классификатор с 40 деревьями\n",
    "Среднее значения качества: 0.694294321131233 (за 0:04:12.675311мс)\n",
    "\n",
    "Обучается классификатор с 50 деревьями\n",
    "Среднее значения качества: 0.6977442051399642 (за 0:05:26.558180мс)\n",
    "\n",
    "Обучается классификатор с 60 деревьями\n",
    "Среднее значения качества: 0.7002027254594443 (за 0:06:49.034804мс)\n",
    "\n",
    "Обучается классификатор с 70 деревьями\n",
    "Среднее значения качества: 0.7019988271689213 (за 0:07:50.472654мс)\n",
    "\n",
    "Обучается классификатор с 80 деревьями\n",
    "Среднее значения качества: 0.7047217159467425 (за 0:09:17.449093мс)\n",
    "\n",
    "Обучается классификатор с 90 деревьями\n",
    "Среднее значения качества: 0.7058723237655931 (за 0:09:42.171533мс)\n",
    "\n",
    "Обучается классификатор с 100 деревьями\n",
    "Среднее значения качества: 0.7069479623025787 (за 0:11:31.993495мс)"
   ]
  },
  {
   "cell_type": "markdown",
   "metadata": {},
   "source": [
    "#### 4. Имеет ли смысл использовать больше 30 деревьев в градиентном бустинге? Что бы вы предложили делать, чтобы ускорить его обучение при увеличении количества деревьев?"
   ]
  },
  {
   "cell_type": "markdown",
   "metadata": {},
   "source": [
    "При количества деревьев больше 30 качество продолжает расти, не медленее. При 80+ рост замедляется ещё сильнее. К тому же, время на обучение начинает заметно увеличиваться.\n",
    "Это значит, что оптимально испольховать 60 деревьев.\n",
    "\n",
    "Чтобы ускорить обучение, можно использовать метод главных компонент."
   ]
  },
  {
   "cell_type": "markdown",
   "metadata": {},
   "source": [
    "### Подход 2: логистическая регрессия"
   ]
  },
  {
   "cell_type": "markdown",
   "metadata": {},
   "source": [
    "Отмасштабируем признаки"
   ]
  },
  {
   "cell_type": "code",
   "execution_count": 37,
   "metadata": {
    "scrolled": true
   },
   "outputs": [],
   "source": [
    "from sklearn.preprocessing import StandardScaler \n",
    "\n",
    "scaler = StandardScaler()\n",
    "X_scaled_array = scaler.fit_transform(X)#[:1, :]"
   ]
  },
  {
   "cell_type": "code",
   "execution_count": 40,
   "metadata": {},
   "outputs": [
    {
     "name": "stdout",
     "output_type": "stream",
     "text": [
      "Обучается LogisticRegressionCV с C=1.0\n",
      "Промежуточный roc_auc_score = 0.7179727874219913\n",
      "Средний AUC-ROC = 0.7179727874219913 найден за 0:00:17.059302мс\n",
      "Обучается LogisticRegressionCV с C=2.0\n",
      "Промежуточный roc_auc_score = 0.7179727560684749\n",
      "Средний AUC-ROC = 0.7179727560684749 найден за 0:00:16.032984мс\n",
      "Обучается LogisticRegressionCV с C=3.0\n",
      "Промежуточный roc_auc_score = 0.7179727933537379\n",
      "Средний AUC-ROC = 0.7179727933537379 найден за 0:00:14.032305мс\n",
      "Обучается LogisticRegressionCV с C=4.0\n",
      "Промежуточный roc_auc_score = 0.717972609893296\n",
      "Средний AUC-ROC = 0.717972609893296 найден за 0:00:15.912441мс\n",
      "Обучается LogisticRegressionCV с C=5.0\n",
      "Промежуточный roc_auc_score = 0.7179727675082714\n",
      "Средний AUC-ROC = 0.7179727675082714 найден за 0:00:14.853195мс\n",
      "Обучается LogisticRegressionCV с C=6.0\n",
      "Промежуточный roc_auc_score = 0.7179726683633675\n",
      "Средний AUC-ROC = 0.7179726683633675 найден за 0:00:14.335186мс\n",
      "Обучается LogisticRegressionCV с C=7.0\n",
      "Промежуточный roc_auc_score = 0.7179729208862851\n",
      "Средний AUC-ROC = 0.7179729208862851 найден за 0:00:14.147524мс\n",
      "Обучается LogisticRegressionCV с C=8.0\n",
      "Промежуточный roc_auc_score = 0.7179729539345864\n",
      "Средний AUC-ROC = 0.7179729539345864 найден за 0:00:13.323045мс\n",
      "Обучается LogisticRegressionCV с C=9.0\n",
      "Промежуточный roc_auc_score = 0.7179727725926255\n",
      "Средний AUC-ROC = 0.7179727725926255 найден за 0:00:25.691728мс\n",
      "Обучается LogisticRegressionCV с C=10.0\n",
      "Промежуточный roc_auc_score = 0.7179727293756161\n",
      "Средний AUC-ROC = 0.7179727293756161 найден за 0:00:15.972074мс\n",
      "Лучшее качество логистической регрессии = 0.7179729539345864 (при c=8.0)\n"
     ]
    }
   ],
   "source": [
    "from sklearn.linear_model import LogisticRegressionCV\n",
    "from sklearn.metrics import roc_auc_score\n",
    "from numpy import linspace\n",
    "import numpy as np\n",
    "\n",
    "def train_log_reg(c):\n",
    "    ll_clf = LogisticRegressionCV(cv=kfold, penalty='l2', scoring=\"roc_auc\")\n",
    "    ll_clf.C = c\n",
    "    ll_clf.fit(X_scaled_array, y)\n",
    "    y_pred = ll_clf.predict_proba(X_scaled_array)\n",
    "    score = ll_clf.score(X_scaled_array, y)\n",
    "    print(f\"Промежуточный roc_auc_score = {score}\")\n",
    "    return score\n",
    "\n",
    "def find_best_c():\n",
    "    best_score = None\n",
    "    best_c = None\n",
    "    for c in linspace(1, 10, 10):\n",
    "        start_time = datetime.now()\n",
    "        print(f\"Обучается LogisticRegressionCV с C={c}\")\n",
    "        avg_score = train_log_reg(c)\n",
    "        if best_score is None or avg_score > best_score:\n",
    "            best_score = avg_score\n",
    "            best_c = c\n",
    "        exec_time = datetime.now() - start_time    \n",
    "        print(f\"Средний AUC-ROC = {avg_score} найден за {exec_time}мс\")\n",
    "    return best_score, best_c\n",
    "\n",
    "score, c = find_best_c()\n",
    "print(f\"Лучшее качество логистической регрессии = {score} (при c={c})\")"
   ]
  }
 ],
 "metadata": {
  "kernelspec": {
   "display_name": "Python 3",
   "language": "python",
   "name": "python3"
  },
  "language_info": {
   "codemirror_mode": {
    "name": "ipython",
    "version": 3
   },
   "file_extension": ".py",
   "mimetype": "text/x-python",
   "name": "python",
   "nbconvert_exporter": "python",
   "pygments_lexer": "ipython3",
   "version": "3.7.6"
  },
  "pycharm": {
   "stem_cell": {
    "cell_type": "raw",
    "metadata": {
     "collapsed": false
    },
    "source": []
   }
  }
 },
 "nbformat": 4,
 "nbformat_minor": 1
}
