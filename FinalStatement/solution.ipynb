{
 "cells": [
  {
   "cell_type": "markdown",
   "metadata": {},
   "source": [
    "### Подход 1: градиентный бустинг \"в лоб\""
   ]
  },
  {
   "cell_type": "code",
   "execution_count": 82,
   "metadata": {
    "pycharm": {
     "is_executing": false
    },
    "scrolled": true
   },
   "outputs": [
    {
     "name": "stdout",
     "output_type": "stream",
     "text": [
      "The autoreload extension is already loaded. To reload it, use:\n",
      "  %reload_ext autoreload\n"
     ]
    }
   ],
   "source": [
    "%load_ext autoreload\n",
    "%autoreload 2\n",
    "%matplotlib inline"
   ]
  },
  {
   "cell_type": "code",
   "execution_count": 83,
   "metadata": {
    "pycharm": {
     "is_executing": true
    },
    "scrolled": true
   },
   "outputs": [],
   "source": [
    "from datetime import datetime\n",
    "import pandas as p\n",
    "from numpy import average\n",
    "import sklearn\n",
    "from sklearn.model_selection import KFold, cross_val_score\n",
    "from sklearn.ensemble import GradientBoostingClassifier\n",
    "import matplotlib.pyplot as plt"
   ]
  },
  {
   "cell_type": "code",
   "execution_count": 84,
   "metadata": {
    "pycharm": {
     "is_executing": true,
     "name": "#%%\n"
    },
    "scrolled": true
   },
   "outputs": [],
   "source": [
    "features = p.read_csv('./features.csv', index_col='match_id')\n",
    "features_test = p.read_csv('./features_test.csv', index_col='match_id')\n",
    "features_train = features.drop(columns=[\n",
    "     \"duration\", \n",
    "     \"radiant_win\",\n",
    "     \"tower_status_radiant\",\n",
    "     \"tower_status_dire\",\n",
    "     \"barracks_status_dire\",\n",
    "     \"barracks_status_radiant\"\n",
    "])"
   ]
  },
  {
   "cell_type": "code",
   "execution_count": 85,
   "metadata": {
    "pycharm": {
     "is_executing": true
    },
    "scrolled": false
   },
   "outputs": [],
   "source": [
    "values_count = features_train.count().sort_values(ascending=True)"
   ]
  },
  {
   "cell_type": "markdown",
   "metadata": {},
   "source": [
    "#### Какие признаки имеют пропуски среди своих значений? Что могут означать пропуски в этих признаках (ответьте на этот вопрос для двух любых признаков)?"
   ]
  },
  {
   "cell_type": "code",
   "execution_count": 86,
   "metadata": {
    "pycharm": {
     "is_executing": true,
     "name": "#%%\n"
    },
    "scrolled": true
   },
   "outputs": [
    {
     "name": "stdout",
     "output_type": "stream",
     "text": [
      "Количество пропусков\n",
      "\n",
      "dire_bottle_time: 16143\n",
      "dire_courier_time: 676\n",
      "dire_first_ward_time: 1826\n",
      "dire_flying_courier_time: 26098\n",
      "first_blood_player1: 19553\n",
      "first_blood_player2: 43987\n",
      "first_blood_team: 19553\n",
      "first_blood_time: 19553\n",
      "radiant_bottle_time: 15691\n",
      "radiant_courier_time: 692\n",
      "radiant_first_ward_time: 1836\n",
      "radiant_flying_courier_time: 27479\n"
     ]
    }
   ],
   "source": [
    "rows = values_count.max()\n",
    "\n",
    "print(\"Количество пропусков\\n\")\n",
    "for (feature, val) in sorted(values_count.iteritems()):\n",
    "    values_missing = rows - val\n",
    "    if values_missing > 0:\n",
    "        print(f\"{feature}: {values_missing}\")"
   ]
  },
  {
   "cell_type": "markdown",
   "metadata": {},
   "source": [
    "Много значений пропущено в колонках, касающихся First Blood (first_blood_player1, first_blood_player2, first_blood_time, first_blood_team). Это значит, что игроки никого не убили за первые 5 минут матча.\n",
    "\n",
    "Пропуски в *_bottle_time, *_courier_time и *_flying_courier_time означают, что соответствующая команда не купила эти предметы за первые 5 минут.\n",
    "\n",
    "Пропуски в *_first_ward_time означают, что команда не поставила ни одного наблюдателя за 5 минут."
   ]
  },
  {
   "cell_type": "code",
   "execution_count": 87,
   "metadata": {
    "pycharm": {
     "is_executing": true
    },
    "scrolled": true
   },
   "outputs": [],
   "source": [
    "features_train = features_train.fillna(value=0)"
   ]
  },
  {
   "cell_type": "markdown",
   "metadata": {},
   "source": [
    "#### 2. Как называется столбец, содержащий целевую переменную?"
   ]
  },
  {
   "cell_type": "code",
   "execution_count": 88,
   "metadata": {
    "pycharm": {
     "is_executing": true
    },
    "scrolled": true
   },
   "outputs": [],
   "source": [
    "Y_col = \"radiant_win\"\n",
    "\n",
    "\n",
    "X = features_train\n",
    "y = features[Y_col]"
   ]
  },
  {
   "cell_type": "markdown",
   "metadata": {},
   "source": [
    "#### 3. Как долго проводилась кросс-валидация для градиентного бустинга с 30 деревьями? Инструкцию по измерению времени можно найти ниже по тексту. Какое качество при этом получилось? Напомним, что в данном задании мы используем метрику качества AUC-ROC."
   ]
  },
  {
   "cell_type": "code",
   "execution_count": 89,
   "metadata": {
    "pycharm": {
     "is_executing": true,
     "name": "#%%\n"
    },
    "scrolled": true
   },
   "outputs": [],
   "source": [
    "kfold = KFold(shuffle=True, n_splits=5)"
   ]
  },
  {
   "cell_type": "raw",
   "metadata": {
    "pycharm": {
     "is_executing": true,
     "name": "#%%\n"
    }
   },
   "source": [
    "for n_estimators in range(30, 70, 10):\n",
    "    print(f\"Обучается классификатор с {n_estimators} деревьями\")\n",
    "    start_time = datetime.now()\n",
    "    clf = GradientBoostingClassifier(n_estimators=n_estimators)\n",
    "    # взятие вероятностей 2 класса (clf.predict_proba(X_test)[:, 1]) вшито в roc_auc скоринг\n",
    "    # [sklearn/metrics/_scorer.py:249]\n",
    "    scores = cross_val_score(estimator=clf, X=features_train, y=y, cv=kfold, scoring=\"roc_auc\")  \n",
    "    avg_score = average(scores)\n",
    "    exec_time = datetime.now() - start_time\n",
    "    print(f\"Среднее значения качества: {avg_score} (за {exec_time}мс)\\n\")"
   ]
  },
  {
   "cell_type": "markdown",
   "metadata": {},
   "source": [
    "Обучается классификатор с 10 деревьями\n",
    "Среднее значения качества: 0.6646291455551827 (за 0:01:12.878092мс)\n",
    "\n",
    "Обучается классификатор с 20 деревьями\n",
    "Среднее значения качества: 0.6809860273308972 (за 0:02:18.501172мс)\n",
    "\n",
    "**Обучается классификатор с 30 деревьями\n",
    "Среднее значения качества: 0.6900458742897161 (за 0:03:09.979634мс)**\n",
    "\n",
    "Обучается классификатор с 40 деревьями\n",
    "Среднее значения качества: 0.694294321131233 (за 0:04:12.675311мс)\n",
    "\n",
    "Обучается классификатор с 50 деревьями\n",
    "Среднее значения качества: 0.6977442051399642 (за 0:05:26.558180мс)\n",
    "\n",
    "Обучается классификатор с 60 деревьями\n",
    "Среднее значения качества: 0.7002027254594443 (за 0:06:49.034804мс)\n",
    "\n",
    "Обучается классификатор с 70 деревьями\n",
    "Среднее значения качества: 0.7019988271689213 (за 0:07:50.472654мс)\n",
    "\n",
    "Обучается классификатор с 80 деревьями\n",
    "Среднее значения качества: 0.7047217159467425 (за 0:09:17.449093мс)\n",
    "\n",
    "Обучается классификатор с 90 деревьями\n",
    "Среднее значения качества: 0.7058723237655931 (за 0:09:42.171533мс)\n",
    "\n",
    "Обучается классификатор с 100 деревьями\n",
    "Среднее значения качества: 0.7069479623025787 (за 0:11:31.993495мс)"
   ]
  },
  {
   "cell_type": "markdown",
   "metadata": {},
   "source": [
    "#### 4. Имеет ли смысл использовать больше 30 деревьев в градиентном бустинге? Что бы вы предложили делать, чтобы ускорить его обучение при увеличении количества деревьев?"
   ]
  },
  {
   "cell_type": "markdown",
   "metadata": {},
   "source": [
    "При количества деревьев больше 30 качество продолжает расти, не медленее. При 80+ рост замедляется ещё сильнее. К тому же, время на обучение начинает заметно увеличиваться.\n",
    "Это значит, что оптимально испольховать 60 деревьев.\n",
    "\n",
    "Чтобы ускорить обучение, можно использовать метод главных компонент."
   ]
  },
  {
   "cell_type": "markdown",
   "metadata": {},
   "source": [
    "### Подход 2: логистическая регрессия"
   ]
  },
  {
   "cell_type": "markdown",
   "metadata": {},
   "source": [
    "Отмасштабируем признаки"
   ]
  },
  {
   "cell_type": "code",
   "execution_count": 90,
   "metadata": {
    "pycharm": {
     "is_executing": true
    },
    "scrolled": false
   },
   "outputs": [],
   "source": [
    "from sklearn.preprocessing import StandardScaler \n",
    "import numpy as np\n",
    "\n",
    "scaler = StandardScaler()\n",
    "X_scaled_array = scaler.fit_transform(X.astype(np.float64))\n",
    "X_scaled = p.DataFrame(data=X_scaled_array, index=X.index, columns=X.columns)"
   ]
  },
  {
   "cell_type": "markdown",
   "metadata": {},
   "source": [
    "**1. Какое качество получилось у логистической регрессии над всеми исходными признаками? Как оно соотносится с качеством градиентного бустинга? Чем вы можете объяснить эту разницу? Быстрее ли работает логистическая регрессия по сравнению с градиентным бустингом?**"
   ]
  },
  {
   "cell_type": "code",
   "execution_count": 92,
   "metadata": {
    "pycharm": {
     "is_executing": true
    },
    "scrolled": true
   },
   "outputs": [],
   "source": [
    "from sklearn.linear_model import LogisticRegressionCV\n",
    "from sklearn.metrics import roc_auc_score\n",
    "from sklearn.decomposition import PCA \n",
    "from numpy import linspace\n",
    "from scipy.special import expit\n",
    "\n",
    "def _fit_and_score_(X, y, c):\n",
    "    ll_clf = LogisticRegressionCV(cv=kfold, penalty='l2')\n",
    "    ll_clf.scoring = \"roc_auc\"\n",
    "    ll_clf.C = c\n",
    "    ll_clf.fit(X, y)\n",
    "    return ll_clf, ll_clf.score(X, y)\n",
    "\n",
    "def _plot_(c, x, clf, n_features=2, feature_selector='pca'):\n",
    "    if feature_selector == 'pca':\n",
    "        ### PCA\n",
    "        pca = PCA(n_components=n_features)\n",
    "        axis = p.DataFrame(pca.fit_transform(x, y))\n",
    "        y_label = x_label = None\n",
    "    elif feature_selector == 'coef':\n",
    "        ### Coefs (feature importance)\n",
    "        features = p.DataFrame(zip(clf.coef_[0], x), columns = [\"coef\", \"column\"])\n",
    "        important_features = features.nlargest(n_features, \"coef\")\n",
    "        (y_label, x_label) = important_features['column']\n",
    "        axis = x[important_features['column']]\n",
    "    else:\n",
    "        raise ValueError(\"Unknown feature selector\")\n",
    "\n",
    "    # Data \n",
    "    radiant = axis.loc[y.loc[y==1].index]\n",
    "    dire = axis.loc[y.loc[y==0].index]\n",
    "    fig = plt.figure()\n",
    "    fig.suptitle(f\"C={c}\")\n",
    "    plt.xlabel(x_label)\n",
    "    plt.ylabel(y_label)\n",
    "    plt.scatter(radiant.iloc[:, 0], radiant.iloc[:, 1], label=\"Radiant\", c=\"green\")\n",
    "    plt.scatter(dire.iloc[:, 0], dire.iloc[:, 1], label=\"Dire\", c=\"Red\")\n",
    "    \n",
    "    # Loss\n",
    "#     loss = expit(np.array(x) * clf.coef_ + clf.intercept_)\n",
    "    loss = expit(x.values * clf.coef_ + clf.intercept_)\n",
    "    plt.plot(np.array(x), loss, color='black', linewidth=3)\n",
    "\n",
    "    plt.legend()\n",
    "    plt.show()\n",
    "    \n",
    "def fit_log_reg(X):\n",
    "    best_score = None\n",
    "    best_c = None\n",
    "    best_clf = None\n",
    "    for c in [0.00001, 0.0001, 0.001, 0.005]:\n",
    "        start_time = datetime.now()\n",
    "        print(f\"Обучается LogisticRegressionCV с C={c}\")\n",
    "        ll_clf, avg_score = _fit_and_score_(X, y, c)\n",
    "        if best_score is None or avg_score > best_score:\n",
    "            best_score = avg_score\n",
    "            best_c = c\n",
    "            best_clf = ll_clf\n",
    "        exec_time = datetime.now() - start_time    \n",
    "        print(f\"Средний AUC-ROC = {avg_score} найден за {exec_time}мс\")\n",
    "    _plot_(c, X, best_clf)\n",
    "    return best_clf, best_score, best_c"
   ]
  },
  {
   "cell_type": "code",
   "execution_count": 93,
   "metadata": {
    "pycharm": {
     "name": "#%%\n"
    },
    "scrolled": false
   },
   "outputs": [
    {
     "name": "stdout",
     "output_type": "stream",
     "text": [
      "Обучается LogisticRegressionCV с C=1e-05\n"
     ]
    },
    {
     "name": "stderr",
     "output_type": "stream",
     "text": [
      "/Library/Frameworks/Python.framework/Versions/3.7/lib/python3.7/site-packages/sklearn/linear_model/logistic.py:1926: ChangedBehaviorWarning: The long-standing behavior to use the accuracy score has changed. The scoring parameter is now used. This warning will disappear in version 0.22.\n",
      "  ChangedBehaviorWarning)\n"
     ]
    },
    {
     "name": "stdout",
     "output_type": "stream",
     "text": [
      "Средний AUC-ROC = 0.7179728221650773 найден за 0:00:15.034503мс\n",
      "Обучается LogisticRegressionCV с C=0.0001\n"
     ]
    },
    {
     "name": "stderr",
     "output_type": "stream",
     "text": [
      "/Library/Frameworks/Python.framework/Versions/3.7/lib/python3.7/site-packages/sklearn/linear_model/logistic.py:1926: ChangedBehaviorWarning: The long-standing behavior to use the accuracy score has changed. The scoring parameter is now used. This warning will disappear in version 0.22.\n",
      "  ChangedBehaviorWarning)\n"
     ]
    },
    {
     "name": "stdout",
     "output_type": "stream",
     "text": [
      "Средний AUC-ROC = 0.7179726687870638 найден за 0:00:13.970516мс\n",
      "Обучается LogisticRegressionCV с C=0.001\n"
     ]
    },
    {
     "name": "stderr",
     "output_type": "stream",
     "text": [
      "/Library/Frameworks/Python.framework/Versions/3.7/lib/python3.7/site-packages/sklearn/linear_model/logistic.py:1926: ChangedBehaviorWarning: The long-standing behavior to use the accuracy score has changed. The scoring parameter is now used. This warning will disappear in version 0.22.\n",
      "  ChangedBehaviorWarning)\n"
     ]
    },
    {
     "name": "stdout",
     "output_type": "stream",
     "text": [
      "Средний AUC-ROC = 0.7179728840247184 найден за 0:00:14.985767мс\n",
      "Обучается LogisticRegressionCV с C=0.005\n"
     ]
    },
    {
     "name": "stderr",
     "output_type": "stream",
     "text": [
      "/Library/Frameworks/Python.framework/Versions/3.7/lib/python3.7/site-packages/sklearn/linear_model/logistic.py:1926: ChangedBehaviorWarning: The long-standing behavior to use the accuracy score has changed. The scoring parameter is now used. This warning will disappear in version 0.22.\n",
      "  ChangedBehaviorWarning)\n"
     ]
    },
    {
     "name": "stdout",
     "output_type": "stream",
     "text": [
      "Средний AUC-ROC = 0.7179726997168842 найден за 0:00:12.523635мс\n"
     ]
    },
    {
     "name": "stderr",
     "output_type": "stream",
     "text": [
      "/Library/Frameworks/Python.framework/Versions/3.7/lib/python3.7/site-packages/ipykernel_launcher.py:30: FutureWarning: \n",
      "Passing list-likes to .loc or [] with any missing label will raise\n",
      "KeyError in the future, you can use .reindex() as an alternative.\n",
      "\n",
      "See the documentation here:\n",
      "https://pandas.pydata.org/pandas-docs/stable/indexing.html#deprecate-loc-reindex-listlike\n",
      "/Library/Frameworks/Python.framework/Versions/3.7/lib/python3.7/site-packages/ipykernel_launcher.py:31: FutureWarning: \n",
      "Passing list-likes to .loc or [] with any missing label will raise\n",
      "KeyError in the future, you can use .reindex() as an alternative.\n",
      "\n",
      "See the documentation here:\n",
      "https://pandas.pydata.org/pandas-docs/stable/indexing.html#deprecate-loc-reindex-listlike\n"
     ]
    },
    {
     "data": {
      "image/png": "[encoded data removed]",
      "text/plain": [
       "<Figure size 432x288 with 1 Axes>"
      ]
     },
     "metadata": {
      "needs_background": "light"
     },
     "output_type": "display_data"
    },
    {
     "name": "stdout",
     "output_type": "stream",
     "text": [
      "\n",
      "🏆 Лучшее качество логистической регрессии = 0.7179728840247184 (при c=0.001)\n"
     ]
    }
   ],
   "source": [
    "clf, score, c = fit_log_reg(X_scaled)\n",
    "print(f\"\\n🏆 Лучшее качество логистической регрессии = {score} (при c={c})\")"
   ]
  },
  {
   "cell_type": "markdown",
   "metadata": {},
   "source": [
    "🏆 Лучшее качество логистической регрессии = 0.7179729170730196 (при c=0.001)"
   ]
  },
  {
   "cell_type": "markdown",
   "metadata": {},
   "source": [
    "Качество регрессии получилось примерно таким же, как при бустинге (~0.7). Я думаю, это обусловлено тем, что я никак не изменил датасет (не считая масштабирования). Но регрессия работает примерно в 20 раз быстрее бустинга — около 20 секунд против 7 минут."
   ]
  },
  {
   "cell_type": "markdown",
   "metadata": {},
   "source": [
    "**2. Как влияет на качество логистической регрессии удаление категориальных признаков (укажите новое значение метрики качества)? Чем вы можете объяснить это изменение?**"
   ]
  },
  {
   "cell_type": "markdown",
   "metadata": {},
   "source": [
    "Уберем категориальные признаки из выборки"
   ]
  },
  {
   "cell_type": "code",
   "execution_count": 94,
   "metadata": {
    "scrolled": true
   },
   "outputs": [],
   "source": [
    "from itertools import chain\n",
    "\n",
    "categorial_features = list(chain.from_iterable((f\"r{i}_hero\", f\"d{i}_hero\") for i in range(1, 6))) # heroes\n",
    "categorial_features += [\"lobby_type\"]"
   ]
  },
  {
   "cell_type": "code",
   "execution_count": 95,
   "metadata": {
    "scrolled": true
   },
   "outputs": [],
   "source": [
    "X_with_no_categorial_features = X_scaled.filter([x for x in X_scaled.columns if x not in categorial_features])"
   ]
  },
  {
   "cell_type": "markdown",
   "metadata": {},
   "source": [
    "Обучим регрессию на выборке без категориальных признаков"
   ]
  },
  {
   "cell_type": "raw",
   "metadata": {},
   "source": [
    "best_clf, score, с = fit_log_reg(X_with_no_categorial_features)\n",
    "print(f\"🏆 Лучшее качество на выборке без категориальных признаков: {score} (c={c})\")"
   ]
  },
  {
   "cell_type": "markdown",
   "metadata": {},
   "source": [
    "🏆 Лучшее качество на выборке без категориальных признаков: 0.7178321808820098 (c=0.001)"
   ]
  },
  {
   "cell_type": "markdown",
   "metadata": {},
   "source": [
    "Качество получилось чуть хуже, чем на выборке с категориальными признаками (0.7178). Возможно, оно не изменилось потому, что эти признаки не влияли на результат."
   ]
  },
  {
   "cell_type": "markdown",
   "metadata": {},
   "source": [
    "**3. Сколько различных идентификаторов героев существует в данной игре?**"
   ]
  },
  {
   "cell_type": "code",
   "execution_count": 121,
   "metadata": {},
   "outputs": [],
   "source": [
    "heroes_count = len(p.read_csv(\"data/dictionaries/heroes.csv\")) # 112"
   ]
  },
  {
   "cell_type": "markdown",
   "metadata": {},
   "source": [
    "Сформируем мешок слов"
   ]
  },
  {
   "cell_type": "code",
   "execution_count": 129,
   "metadata": {},
   "outputs": [
    {
     "name": "stdout",
     "output_type": "stream",
     "text": [
      "0\n"
     ]
    },
    {
     "name": "stderr",
     "output_type": "stream",
     "text": [
      "/Library/Frameworks/Python.framework/Versions/3.7/lib/python3.7/site-packages/ipykernel_launcher.py:6: DeprecationWarning: \n",
      ".ix is deprecated. Please use\n",
      ".loc for label based indexing or\n",
      ".iloc for positional indexing\n",
      "\n",
      "See the documentation here:\n",
      "http://pandas.pydata.org/pandas-docs/stable/indexing.html#ix-indexer-is-deprecated\n",
      "  \n"
     ]
    },
    {
     "ename": "IndexError",
     "evalue": "only integers, slices (`:`), ellipsis (`...`), numpy.newaxis (`None`) and integer or boolean arrays are valid indices",
     "output_type": "error",
     "traceback": [
      "\u001b[0;31m---------------------------------------------------------------------------\u001b[0m",
      "\u001b[0;31mIndexError\u001b[0m                                Traceback (most recent call last)",
      "\u001b[0;32m<ipython-input-129-f63fedf941fc>\u001b[0m in \u001b[0;36m<module>\u001b[0;34m\u001b[0m\n\u001b[1;32m      4\u001b[0m     \u001b[0;32mfor\u001b[0m \u001b[0mp\u001b[0m \u001b[0;32min\u001b[0m \u001b[0mrange\u001b[0m\u001b[0;34m(\u001b[0m\u001b[0;36m4\u001b[0m\u001b[0;34m)\u001b[0m\u001b[0;34m:\u001b[0m\u001b[0;34m\u001b[0m\u001b[0;34m\u001b[0m\u001b[0m\n\u001b[1;32m      5\u001b[0m         \u001b[0mprint\u001b[0m\u001b[0;34m(\u001b[0m\u001b[0mp\u001b[0m\u001b[0;34m)\u001b[0m\u001b[0;34m\u001b[0m\u001b[0;34m\u001b[0m\u001b[0m\n\u001b[0;32m----> 6\u001b[0;31m         \u001b[0mX_pick\u001b[0m\u001b[0;34m[\u001b[0m\u001b[0mi\u001b[0m\u001b[0;34m,\u001b[0m \u001b[0mX_scaled\u001b[0m\u001b[0;34m.\u001b[0m\u001b[0mix\u001b[0m\u001b[0;34m[\u001b[0m\u001b[0mmatch_id\u001b[0m\u001b[0;34m,\u001b[0m \u001b[0;34m'r%d_hero'\u001b[0m \u001b[0;34m%\u001b[0m \u001b[0;34m(\u001b[0m\u001b[0mp\u001b[0m\u001b[0;34m+\u001b[0m\u001b[0;36m1\u001b[0m\u001b[0;34m)\u001b[0m\u001b[0;34m]\u001b[0m\u001b[0;34m-\u001b[0m\u001b[0;36m1\u001b[0m\u001b[0;34m]\u001b[0m \u001b[0;34m=\u001b[0m \u001b[0;36m1\u001b[0m\u001b[0;34m\u001b[0m\u001b[0;34m\u001b[0m\u001b[0m\n\u001b[0m\u001b[1;32m      7\u001b[0m         \u001b[0mX_pick\u001b[0m\u001b[0;34m[\u001b[0m\u001b[0mi\u001b[0m\u001b[0;34m,\u001b[0m \u001b[0mX_scaled\u001b[0m\u001b[0;34m.\u001b[0m\u001b[0mix\u001b[0m\u001b[0;34m[\u001b[0m\u001b[0mmatch_id\u001b[0m\u001b[0;34m,\u001b[0m \u001b[0;34m'd%d_hero'\u001b[0m \u001b[0;34m%\u001b[0m \u001b[0;34m(\u001b[0m\u001b[0mp\u001b[0m\u001b[0;34m+\u001b[0m\u001b[0;36m1\u001b[0m\u001b[0;34m)\u001b[0m\u001b[0;34m]\u001b[0m\u001b[0;34m-\u001b[0m\u001b[0;36m1\u001b[0m\u001b[0;34m]\u001b[0m \u001b[0;34m=\u001b[0m \u001b[0;34m-\u001b[0m\u001b[0;36m1\u001b[0m\u001b[0;34m\u001b[0m\u001b[0;34m\u001b[0m\u001b[0m\n\u001b[1;32m      8\u001b[0m \u001b[0;34m\u001b[0m\u001b[0m\n",
      "\u001b[0;31mIndexError\u001b[0m: only integers, slices (`:`), ellipsis (`...`), numpy.newaxis (`None`) and integer or boolean arrays are valid indices"
     ]
    }
   ],
   "source": [
    "X_pick = np.zeros((X_scaled.shape[0], heroes_count))\n",
    "\n",
    "for i, match_id in enumerate(X.index):\n",
    "    for p in range(4):\n",
    "        print(p)\n",
    "        X_pick[i, X_scaled.ix[match_id, 'r%d_hero' % (p+1)]-1] = 1\n",
    "        X_pick[i, X_scaled.ix[match_id, 'd%d_hero' % (p+1)]-1] = -1\n",
    "        \n",
    "X_pick"
   ]
  },
  {
   "cell_type": "markdown",
   "metadata": {},
   "source": [
    "**4. Какое получилось качество при добавлении \"мешка слов\" по героям? Улучшилось ли оно по сравнению с предыдущим вариантом? Чем вы можете это объяснить?**"
   ]
  },
  {
   "cell_type": "code",
   "execution_count": null,
   "metadata": {},
   "outputs": [],
   "source": []
  }
 ],
 "metadata": {
  "kernelspec": {
   "display_name": "Python 3",
   "language": "python",
   "name": "python3"
  },
  "language_info": {
   "codemirror_mode": {
    "name": "ipython",
    "version": 3
   },
   "file_extension": ".py",
   "mimetype": "text/x-python",
   "name": "python",
   "nbconvert_exporter": "python",
   "pygments_lexer": "ipython3",
   "version": "3.7.1"
  },
  "pycharm": {
   "stem_cell": {
    "cell_type": "raw",
    "metadata": {
     "collapsed": false
    },
    "source": []
   }
  }
 },
 "nbformat": 4,
 "nbformat_minor": 1
}
