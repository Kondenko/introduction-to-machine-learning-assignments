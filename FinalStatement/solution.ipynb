{
 "cells": [
  {
   "cell_type": "markdown",
   "metadata": {},
   "source": [
    "### Подход 1: градиентный бустинг \"в лоб\""
   ]
  },
  {
   "cell_type": "code",
   "execution_count": 1,
   "metadata": {
    "pycharm": {
     "is_executing": false,
     "name": "#%%\n"
    }
   },
   "outputs": [],
   "source": [
    "import numpy as np\n",
    "import pandas as p\n",
    "from pandas import DataFrame\n",
    "\n",
    "features = p.read_csv('./features.csv', index_col='match_id')\n",
    "features_train = features.drop(columns=[\n",
    "     \"duration\", \n",
    "     \"radiant_win\",\n",
    "     \"tower_status_radiant\",\n",
    "     \"tower_status_dire\",\n",
    "     \"barracks_status_dire\",\n",
    "     \"barracks_status_radiant\"\n",
    "])"
   ]
  },
  {
   "cell_type": "code",
   "execution_count": 2,
   "metadata": {
    "scrolled": true
   },
   "outputs": [],
   "source": [
    "p.options.display.max_rows = len(features_train)\n",
    "values_count = features_train.count().sort_values(ascending=True)"
   ]
  },
  {
   "cell_type": "markdown",
   "metadata": {},
   "source": [
    "#### Какие признаки имеют пропуски среди своих значений? Что могут означать пропуски в этих признаках (ответьте на этот вопрос для двух любых признаков)?"
   ]
  },
  {
   "cell_type": "code",
   "execution_count": 26,
   "metadata": {
    "pycharm": {
     "is_executing": true,
     "name": "#%%\n"
    }
   },
   "outputs": [
    {
     "name": "stdout",
     "output_type": "stream",
     "text": [
      "Количество пропусков\n",
      "\n",
      "dire_bottle_time: 16143\n",
      "dire_courier_time: 676\n",
      "dire_first_ward_time: 1826\n",
      "dire_flying_courier_time: 26098\n",
      "first_blood_player1: 19553\n",
      "first_blood_player2: 43987\n",
      "first_blood_team: 19553\n",
      "first_blood_time: 19553\n",
      "radiant_bottle_time: 15691\n",
      "radiant_courier_time: 692\n",
      "radiant_first_ward_time: 1836\n",
      "radiant_flying_courier_time: 27479\n"
     ]
    }
   ],
   "source": [
    "rows = values_count.max()\n",
    "\n",
    "print(\"Количество пропусков\\n\")\n",
    "for (feature, val) in sorted(values_count.iteritems()):\n",
    "    values_missing = rows - val\n",
    "    if values_missing > 0:\n",
    "        print(f\"{feature}: {values_missing}\")"
   ]
  },
  {
   "cell_type": "markdown",
   "metadata": {},
   "source": [
    "Много значений пропущено в колонках, касающихся First Blood (first_blood_player1, first_blood_player2, first_blood_time, first_blood_team). Это значит, что игроки никого не убили за первые 5 минут матча.\n",
    "\n",
    "Пропуски в *_bottle_time, *_courier_time и *_flying_courier_time означают, что соответствующая команда не купила эти предметы за первые 5 минут.\n",
    "\n",
    "Пропуски в *_first_ward_time означают, что команда не поставила ни одного наблюдателя за 5 минут."
   ]
  },
  {
   "cell_type": "code",
   "execution_count": 28,
   "metadata": {},
   "outputs": [],
   "source": [
    "features_train = features_train.fillna(value=0)"
   ]
  },
  {
   "cell_type": "markdown",
   "metadata": {},
   "source": [
    "#### 2. Как называется столбец, содержащий целевую переменную?"
   ]
  },
  {
   "cell_type": "markdown",
   "metadata": {},
   "source": [
    "_radiant_win_"
   ]
  },
  {
   "cell_type": "markdown",
   "metadata": {},
   "source": [
    "#### 3. Как долго проводилась кросс-валидация для градиентного бустинга с 30 деревьями? Инструкцию по измерению времени можно найти ниже по тексту. Какое качество при этом получилось? Напомним, что в данном задании мы используем метрику качества AUC-ROC."
   ]
  }
 ],
 "metadata": {
  "kernelspec": {
   "display_name": "Python 3",
   "language": "python",
   "name": "python3"
  },
  "language_info": {
   "codemirror_mode": {
    "name": "ipython",
    "version": 3
   },
   "file_extension": ".py",
   "mimetype": "text/x-python",
   "name": "python",
   "nbconvert_exporter": "python",
   "pygments_lexer": "ipython3",
   "version": "3.7.6"
  },
  "pycharm": {
   "stem_cell": {
    "cell_type": "raw",
    "metadata": {
     "collapsed": false
    },
    "source": []
   }
  }
 },
 "nbformat": 4,
 "nbformat_minor": 1
}
