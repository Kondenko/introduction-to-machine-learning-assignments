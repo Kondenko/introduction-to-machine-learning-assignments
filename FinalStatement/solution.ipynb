{
 "cells": [
  {
   "cell_type": "markdown",
   "metadata": {},
   "source": [
    "### Подход 1: градиентный бустинг \"в лоб\""
   ]
  },
  {
   "cell_type": "code",
   "execution_count": 1,
   "metadata": {
    "pycharm": {
     "is_executing": false
    },
    "scrolled": true
   },
   "outputs": [],
   "source": [
    "%load_ext autoreload\n",
    "%autoreload 2\n",
    "%matplotlib notebook"
   ]
  },
  {
   "cell_type": "code",
   "execution_count": 2,
   "metadata": {},
   "outputs": [],
   "source": [
    "import warnings\n",
    "warnings.filterwarnings('ignore')"
   ]
  },
  {
   "cell_type": "code",
   "execution_count": 3,
   "metadata": {
    "pycharm": {
     "is_executing": true
    },
    "scrolled": true
   },
   "outputs": [],
   "source": [
    "from datetime import datetime\n",
    "import pandas as p\n",
    "from numpy import average\n",
    "import sklearn\n",
    "from sklearn.model_selection import KFold, cross_val_score\n",
    "from sklearn.ensemble import GradientBoostingClassifier\n",
    "import matplotlib.pyplot as plt"
   ]
  },
  {
   "cell_type": "code",
   "execution_count": 4,
   "metadata": {
    "pycharm": {
     "is_executing": true,
     "name": "#%%\n"
    },
    "scrolled": true
   },
   "outputs": [],
   "source": [
    "features = p.read_csv('./features.csv', index_col='match_id')\n",
    "features_test = p.read_csv('./features_test.csv', index_col='match_id')\n",
    "features_train = features.drop(columns=[\n",
    "     \"duration\", \n",
    "     \"radiant_win\",\n",
    "     \"tower_status_radiant\",\n",
    "     \"tower_status_dire\",\n",
    "     \"barracks_status_dire\",\n",
    "     \"barracks_status_radiant\"\n",
    "])"
   ]
  },
  {
   "cell_type": "code",
   "execution_count": 5,
   "metadata": {
    "pycharm": {
     "is_executing": true
    },
    "scrolled": false
   },
   "outputs": [],
   "source": [
    "values_count = features_train.count().sort_values(ascending=True)"
   ]
  },
  {
   "cell_type": "markdown",
   "metadata": {},
   "source": [
    "#### Какие признаки имеют пропуски среди своих значений? Что могут означать пропуски в этих признаках (ответьте на этот вопрос для двух любых признаков)?"
   ]
  },
  {
   "cell_type": "code",
   "execution_count": 6,
   "metadata": {
    "pycharm": {
     "is_executing": true,
     "name": "#%%\n"
    },
    "scrolled": true
   },
   "outputs": [
    {
     "name": "stdout",
     "output_type": "stream",
     "text": [
      "Количество пропусков\n",
      "\n",
      "dire_bottle_time: 16143\n",
      "dire_courier_time: 676\n",
      "dire_first_ward_time: 1826\n",
      "dire_flying_courier_time: 26098\n",
      "first_blood_player1: 19553\n",
      "first_blood_player2: 43987\n",
      "first_blood_team: 19553\n",
      "first_blood_time: 19553\n",
      "radiant_bottle_time: 15691\n",
      "radiant_courier_time: 692\n",
      "radiant_first_ward_time: 1836\n",
      "radiant_flying_courier_time: 27479\n"
     ]
    }
   ],
   "source": [
    "rows = values_count.max()\n",
    "\n",
    "print(\"Количество пропусков\\n\")\n",
    "for (feature, val) in sorted(values_count.iteritems()):\n",
    "    values_missing = rows - val\n",
    "    if values_missing > 0:\n",
    "        print(f\"{feature}: {values_missing}\")"
   ]
  },
  {
   "cell_type": "markdown",
   "metadata": {},
   "source": [
    "Много значений пропущено в колонках, касающихся First Blood (first_blood_player1, first_blood_player2, first_blood_time, first_blood_team). Это значит, что игроки никого не убили за первые 5 минут матча.\n",
    "\n",
    "Пропуски в *_bottle_time, *_courier_time и *_flying_courier_time означают, что соответствующая команда не купила эти предметы за первые 5 минут.\n",
    "\n",
    "Пропуски в *_first_ward_time означают, что команда не поставила ни одного наблюдателя за 5 минут."
   ]
  },
  {
   "cell_type": "code",
   "execution_count": 7,
   "metadata": {
    "pycharm": {
     "is_executing": true
    },
    "scrolled": true
   },
   "outputs": [],
   "source": [
    "features_train = features_train.fillna(value=0)"
   ]
  },
  {
   "cell_type": "markdown",
   "metadata": {},
   "source": [
    "#### 2. Как называется столбец, содержащий целевую переменную?"
   ]
  },
  {
   "cell_type": "code",
   "execution_count": 8,
   "metadata": {
    "pycharm": {
     "is_executing": true
    },
    "scrolled": true
   },
   "outputs": [],
   "source": [
    "Y_col = \"radiant_win\"\n",
    "\n",
    "\n",
    "X = features_train\n",
    "y = features[Y_col]"
   ]
  },
  {
   "cell_type": "markdown",
   "metadata": {},
   "source": [
    "#### 3. Как долго проводилась кросс-валидация для градиентного бустинга с 30 деревьями? Инструкцию по измерению времени можно найти ниже по тексту. Какое качество при этом получилось? Напомним, что в данном задании мы используем метрику качества AUC-ROC."
   ]
  },
  {
   "cell_type": "code",
   "execution_count": 9,
   "metadata": {
    "pycharm": {
     "is_executing": true,
     "name": "#%%\n"
    },
    "scrolled": true
   },
   "outputs": [],
   "source": [
    "n_splits = 5\n",
    "kfold = KFold(shuffle=True, n_splits=n_splits)"
   ]
  },
  {
   "cell_type": "raw",
   "metadata": {
    "pycharm": {
     "is_executing": true,
     "name": "#%%\n"
    }
   },
   "source": [
    "for n_estimators in range(30, 70, 10):\n",
    "    print(f\"Обучается классификатор с {n_estimators} деревьями\")\n",
    "    start_time = datetime.now()\n",
    "    clf = GradientBoostingClassifier(n_estimators=n_estimators)\n",
    "    # взятие вероятностей 2 класса (clf.predict_proba(X_test)[:, 1]) вшито в roc_auc скоринг\n",
    "    # [sklearn/metrics/_scorer.py:249]\n",
    "    scores = cross_val_score(estimator=clf, X=features_train, y=y, cv=kfold, scoring=\"roc_auc\")  \n",
    "    avg_score = average(scores)\n",
    "    exec_time = datetime.now() - start_time\n",
    "    print(f\"Среднее значения качества: {avg_score} (за {exec_time}мс)\\n\")"
   ]
  },
  {
   "cell_type": "markdown",
   "metadata": {},
   "source": [
    "Обучается классификатор с 10 деревьями\n",
    "Среднее значения качества: 0.6646291455551827 (за 0:01:12.878092мс)\n",
    "\n",
    "Обучается классификатор с 20 деревьями\n",
    "Среднее значения качества: 0.6809860273308972 (за 0:02:18.501172мс)\n",
    "\n",
    "**Обучается классификатор с 30 деревьями\n",
    "Среднее значения качества: 0.6900458742897161 (за 0:03:09.979634мс)**\n",
    "\n",
    "Обучается классификатор с 40 деревьями\n",
    "Среднее значения качества: 0.694294321131233 (за 0:04:12.675311мс)\n",
    "\n",
    "Обучается классификатор с 50 деревьями\n",
    "Среднее значения качества: 0.6977442051399642 (за 0:05:26.558180мс)\n",
    "\n",
    "Обучается классификатор с 60 деревьями\n",
    "Среднее значения качества: 0.7002027254594443 (за 0:06:49.034804мс)\n",
    "\n",
    "Обучается классификатор с 70 деревьями\n",
    "Среднее значения качества: 0.7019988271689213 (за 0:07:50.472654мс)\n",
    "\n",
    "Обучается классификатор с 80 деревьями\n",
    "Среднее значения качества: 0.7047217159467425 (за 0:09:17.449093мс)\n",
    "\n",
    "Обучается классификатор с 90 деревьями\n",
    "Среднее значения качества: 0.7058723237655931 (за 0:09:42.171533мс)\n",
    "\n",
    "Обучается классификатор с 100 деревьями\n",
    "Среднее значения качества: 0.7069479623025787 (за 0:11:31.993495мс)"
   ]
  },
  {
   "cell_type": "markdown",
   "metadata": {},
   "source": [
    "#### 4. Имеет ли смысл использовать больше 30 деревьев в градиентном бустинге? Что бы вы предложили делать, чтобы ускорить его обучение при увеличении количества деревьев?"
   ]
  },
  {
   "cell_type": "markdown",
   "metadata": {},
   "source": [
    "При количества деревьев больше 30 качество продолжает расти, не медленее. При 80+ рост замедляется ещё сильнее. К тому же, время на обучение начинает заметно увеличиваться.\n",
    "Это значит, что оптимально испольховать 60 деревьев.\n",
    "\n",
    "Чтобы ускорить обучение, можно использовать метод главных компонент."
   ]
  },
  {
   "cell_type": "markdown",
   "metadata": {},
   "source": [
    "### Подход 2: логистическая регрессия"
   ]
  },
  {
   "cell_type": "markdown",
   "metadata": {},
   "source": [
    "Отмасштабируем признаки"
   ]
  },
  {
   "cell_type": "code",
   "execution_count": 10,
   "metadata": {
    "pycharm": {
     "is_executing": true
    },
    "scrolled": false
   },
   "outputs": [],
   "source": [
    "from sklearn.preprocessing import StandardScaler \n",
    "import numpy as np\n",
    "\n",
    "scaler = StandardScaler()\n",
    "X_scaled_array = scaler.fit_transform(X.astype(np.float64))\n",
    "X_scaled = p.DataFrame(data=X_scaled_array, index=X.index, columns=X.columns)"
   ]
  },
  {
   "cell_type": "markdown",
   "metadata": {},
   "source": [
    "**1. Какое качество получилось у логистической регрессии над всеми исходными признаками? Как оно соотносится с качеством градиентного бустинга? Чем вы можете объяснить эту разницу? Быстрее ли работает логистическая регрессия по сравнению с градиентным бустингом?**"
   ]
  },
  {
   "cell_type": "code",
   "execution_count": 44,
   "metadata": {
    "pycharm": {
     "is_executing": true
    },
    "scrolled": true
   },
   "outputs": [],
   "source": [
    "from sklearn.linear_model import LogisticRegressionCV\n",
    "from sklearn.metrics import roc_auc_score\n",
    "from sklearn.decomposition import PCA \n",
    "from numpy import linspace\n",
    "from scipy.special import expit\n",
    "from mpl_toolkits.mplot3d import Axes3D \n",
    "\n",
    "def _plot_(c, x, clf, feature_selector='coef'):\n",
    "    n_features = 2 # always plotting in 3D\n",
    "    y_pred = clf.predict_proba(x)[:, 1]\n",
    "    if feature_selector == 'pca':\n",
    "        ### PCA\n",
    "        pca = PCA(n_components=n_features)\n",
    "        axis = p.DataFrame(pca.fit_transform(x, y))\n",
    "        labels = None\n",
    "    elif feature_selector == 'coef':\n",
    "        ### Coefs (feature importance)\n",
    "        features = p.DataFrame(zip(clf.coef_[0], x), columns = [\"coef\", \"column\"])\n",
    "        important_features = features.nlargest(n_features, \"coef\")\n",
    "        labels = important_features['column'].values\n",
    "        axis = x[important_features['column']]\n",
    "    else:\n",
    "        raise ValueError(\"Unknown feature selector\")\n",
    "        \n",
    "    # Data \n",
    "    axis = np.column_stack([y_pred, axis.values])\n",
    "    axis = p.DataFrame(axis)\n",
    "    radiant = axis.loc[y.loc[y>=0.5].index]\n",
    "    dire = axis.loc[y.loc[y<0.5].index]\n",
    "    colors = [\"red\" if y>=0.5 else \"green\" for y in y_pred]\n",
    "    \n",
    "    # 3D plotting\n",
    "    fig = plt.figure()\n",
    "    fig.suptitle(f\"C={c}\")\n",
    "    ax = plt.axes(projection='3d')\n",
    "    ax.set_xlabel(labels[1])\n",
    "    ax.set_ylabel(Y_col)\n",
    "    ax.set_zlabel(labels[0])\n",
    "    ax.scatter3D(axis.iloc[:, 2], axis.iloc[:, 0], axis.iloc[:, 1], c=colors)\n",
    "    # ax.scatter3D(dire.iloc[:, 1], dire.iloc[:, 0], dire.iloc[:, 2], label=\"Dire\", c=\"red\")\n",
    "    # ax.scatter3D(radiant.iloc[:, 1], radiant.iloc[:, 0], radiant.iloc[:, 2], label=\"Radiant\", c=\"green\")\n",
    "\n",
    "    # 2d\n",
    "    # plt.scatter(axis.iloc[:, 1], axis.iloc[:, 0], c=colors)\n",
    "    # plt.scatter(dire.iloc[:, 0], dire.iloc[:, 1], label=\"Dire\", c=\"red\")\n",
    "    # plt.scatter(radiant.iloc[:, 0], radiant.iloc[:, 1], label=\"Radiant\", c=\"green\")\n",
    "\n",
    "    # Loss\n",
    "    # loss = expit(x.values * clf.coef_ + clf.intercept_)\n",
    "    # plt.plot(np.array(x), loss, color='black', linewidth=3)\n",
    "\n",
    "    plt.show()\n",
    "    \n",
    "def _fit_and_score_(x, c):\n",
    "    ll_clf = LogisticRegressionCV(cv=kfold, penalty='l2')\n",
    "    ll_clf.scoring = \"roc_auc\"\n",
    "    ll_clf.C = c\n",
    "    ll_clf.fit(x, y)\n",
    "    return ll_clf, ll_clf.score(x, y)\n",
    "    \n",
    "def fit_log_reg(x):\n",
    "    best_score = None\n",
    "    best_c = None\n",
    "    best_clf = None\n",
    "    for c in linspace(0.0001, 10, num=1):\n",
    "        start_time = datetime.now()\n",
    "        print(f\"Обучается LogisticRegression с C={c}\")\n",
    "        ll_clf, avg_score = _fit_and_score_(x, c)\n",
    "        if best_score is None or avg_score > best_score:\n",
    "            best_score = avg_score\n",
    "            best_c = c\n",
    "            best_clf = ll_clf\n",
    "        exec_time = datetime.now() - start_time    \n",
    "        print(f\"Средний AUC-ROC = {avg_score} найден за {exec_time}мс\")\n",
    "    _plot_(c, x, best_clf)\n",
    "    return best_clf, best_score, best_c"
   ]
  },
  {
   "cell_type": "code",
   "execution_count": null,
   "metadata": {
    "pycharm": {
     "name": "#%%\n"
    },
    "scrolled": false
   },
   "outputs": [
    {
     "name": "stdout",
     "output_type": "stream",
     "text": [
      "Обучается LogisticRegression с C=0.0001\n"
     ]
    }
   ],
   "source": [
    "clf, score, c = fit_log_reg(X_scaled)\n",
    "print(f\"\\n🏆 Лучшее качество логистической регрессии = {score} (при c={c})\")"
   ]
  },
  {
   "cell_type": "markdown",
   "metadata": {},
   "source": [
    "🏆 Лучшее качество логистической регрессии = 0.7179728937697301 (при c=10.0)"
   ]
  },
  {
   "cell_type": "markdown",
   "metadata": {},
   "source": [
    "Качество регрессии получилось примерно таким же, как при бустинге (~0.7). Я думаю, это обусловлено тем, что я никак не изменил датасет (не считая масштабирования). Но регрессия работает примерно в 20 раз быстрее бустинга — около 20 секунд против 7 минут."
   ]
  },
  {
   "cell_type": "markdown",
   "metadata": {},
   "source": [
    "**2. Как влияет на качество логистической регрессии удаление категориальных признаков (укажите новое значение метрики качества)? Чем вы можете объяснить это изменение?**"
   ]
  },
  {
   "cell_type": "markdown",
   "metadata": {},
   "source": [
    "Уберем категориальные признаки из выборки"
   ]
  },
  {
   "cell_type": "code",
   "execution_count": null,
   "metadata": {
    "scrolled": true
   },
   "outputs": [],
   "source": [
    "from itertools import chain\n",
    "\n",
    "categorial_features = list(chain.from_iterable((f\"r{i}_hero\", f\"d{i}_hero\") for i in range(1, 6))) # heroes\n",
    "categorial_features += [\"lobby_type\"]"
   ]
  },
  {
   "cell_type": "code",
   "execution_count": null,
   "metadata": {
    "scrolled": true
   },
   "outputs": [],
   "source": [
    "X_with_no_categorial_features = X_scaled.filter([x for x in X_scaled.columns if x not in categorial_features])"
   ]
  },
  {
   "cell_type": "markdown",
   "metadata": {},
   "source": [
    "Обучим регрессию на выборке без категориальных признаков"
   ]
  },
  {
   "cell_type": "code",
   "execution_count": null,
   "metadata": {},
   "outputs": [],
   "source": [
    "best_clf, score, c = fit_log_reg(X_with_no_categorial_features)\n",
    "print(f\"🏆 Лучшее качество на выборке без категориальных признаков: {score} (c={c})\")"
   ]
  },
  {
   "cell_type": "markdown",
   "metadata": {},
   "source": [
    "🏆 Лучшее качество на выборке без категориальных признаков: 0.717832161391986 (c=10.0)"
   ]
  },
  {
   "cell_type": "markdown",
   "metadata": {},
   "source": [
    "Качество получилось чуть хуже, чем на выборке с категориальными признаками (0.7178). Возможно, оно не изменилось потому, что эти признаки не влияли на результат."
   ]
  },
  {
   "cell_type": "markdown",
   "metadata": {},
   "source": [
    "**3. Сколько различных идентификаторов героев существует в данной игре?**"
   ]
  },
  {
   "cell_type": "code",
   "execution_count": null,
   "metadata": {},
   "outputs": [],
   "source": [
    "heroes_dict = p.read_csv(\"data/dictionaries/heroes.csv\")\n",
    "heroes_count = heroes_dict.shape[0] # 112\n",
    "heroes_count"
   ]
  },
  {
   "cell_type": "markdown",
   "metadata": {},
   "source": [
    "Сформируем мешок слов"
   ]
  },
  {
   "cell_type": "code",
   "execution_count": null,
   "metadata": {},
   "outputs": [],
   "source": [
    "heroes = np.zeros((X.shape[0], heroes_count))\n",
    "\n",
    "for i, match_id in enumerate(X.index):\n",
    "    for n in range(4):\n",
    "        r_hero = X.ix[match_id, f'r{n+1}_hero'] - 1\n",
    "        d_hero = X.ix[match_id, f'd{n+1}_hero'] - 1\n",
    "        heroes[i, r_hero] = 1\n",
    "        heroes[i, d_hero] = -1"
   ]
  },
  {
   "cell_type": "markdown",
   "metadata": {},
   "source": [
    "Добавим его в выборку"
   ]
  },
  {
   "cell_type": "code",
   "execution_count": null,
   "metadata": {
    "scrolled": true
   },
   "outputs": [],
   "source": [
    "df_heroes = p.DataFrame(heroes, columns=heroes_dict['name'])\n",
    "df_heroes = df_heroes.reset_index(drop=True)\n",
    "X_with_no_categorial_features = X_with_no_categorial_features.reset_index(drop=True)\n",
    "X_with_heroes = X_with_no_categorial_features.join(df_heroes)"
   ]
  },
  {
   "cell_type": "markdown",
   "metadata": {},
   "source": [
    "**4. Какое получилось качество при добавлении \"мешка слов\" по героям? Улучшилось ли оно по сравнению с предыдущим вариантом? Чем вы можете это объяснить?**"
   ]
  },
  {
   "cell_type": "code",
   "execution_count": null,
   "metadata": {
    "scrolled": false
   },
   "outputs": [],
   "source": [
    "best_clf, score, c = fit_log_reg(X_with_heroes)\n",
    "print(f\"🏆 Лучшее качество на выборке с мешком слов: {score} (c={c})\")"
   ]
  },
  {
   "cell_type": "markdown",
   "metadata": {},
   "source": [
    "🏆 Лучшее качество на выборке с мешком слов: 0.746641390964292 (c=5.00005)"
   ]
  },
  {
   "cell_type": "markdown",
   "metadata": {},
   "source": [
    "Качество улучшилось, потому что метки героев стали осмысленными, а не просто случайными идентификаторами. "
   ]
  },
  {
   "cell_type": "markdown",
   "metadata": {},
   "source": [
    "**5. Какое минимальное и максимальное значение прогноза на тестовой выборке получилось у лучшего из алгоритмов?**"
   ]
  },
  {
   "cell_type": "code",
   "execution_count": null,
   "metadata": {},
   "outputs": [],
   "source": []
  }
 ],
 "metadata": {
  "kernelspec": {
   "display_name": "Python 3",
   "language": "python",
   "name": "python3"
  },
  "language_info": {
   "codemirror_mode": {
    "name": "ipython",
    "version": 3
   },
   "file_extension": ".py",
   "mimetype": "text/x-python",
   "name": "python",
   "nbconvert_exporter": "python",
   "pygments_lexer": "ipython3",
   "version": "3.7.1"
  },
  "pycharm": {
   "stem_cell": {
    "cell_type": "raw",
    "metadata": {
     "collapsed": false
    },
    "source": []
   }
  }
 },
 "nbformat": 4,
 "nbformat_minor": 1
}
