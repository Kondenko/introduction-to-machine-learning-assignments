{
 "cells": [
  {
   "cell_type": "markdown",
   "metadata": {},
   "source": [
    "### Подход 1: градиентный бустинг \"в лоб\""
   ]
  },
  {
   "cell_type": "code",
   "execution_count": 1,
   "metadata": {
    "pycharm": {
     "is_executing": false
    }
   },
   "outputs": [],
   "source": [
    "%load_ext autoreload\n",
    "%autoreload 2"
   ]
  },
  {
   "cell_type": "code",
   "execution_count": 2,
   "metadata": {
    "pycharm": {
     "is_executing": true
    }
   },
   "outputs": [],
   "source": [
    "from datetime import datetime\n",
    "import pandas as p\n",
    "from numpy import average\n",
    "import sklearn\n",
    "from sklearn.model_selection import KFold, cross_val_score\n",
    "from sklearn.ensemble import GradientBoostingClassifier"
   ]
  },
  {
   "cell_type": "code",
   "execution_count": 3,
   "metadata": {
    "pycharm": {
     "is_executing": true,
     "name": "#%%\n"
    }
   },
   "outputs": [],
   "source": [
    "features = p.read_csv('./features.csv', index_col='match_id')\n",
    "features_test = p.read_csv('./features_test.csv', index_col='match_id')\n",
    "features_train = features.drop(columns=[\n",
    "     \"duration\", \n",
    "     \"radiant_win\",\n",
    "     \"tower_status_radiant\",\n",
    "     \"tower_status_dire\",\n",
    "     \"barracks_status_dire\",\n",
    "     \"barracks_status_radiant\"\n",
    "])"
   ]
  },
  {
   "cell_type": "code",
   "execution_count": 4,
   "metadata": {
    "pycharm": {
     "is_executing": true
    },
    "scrolled": true
   },
   "outputs": [],
   "source": [
    "values_count = features_train.count().sort_values(ascending=True)"
   ]
  },
  {
   "cell_type": "markdown",
   "metadata": {},
   "source": [
    "#### Какие признаки имеют пропуски среди своих значений? Что могут означать пропуски в этих признаках (ответьте на этот вопрос для двух любых признаков)?"
   ]
  },
  {
   "cell_type": "code",
   "execution_count": 5,
   "metadata": {
    "pycharm": {
     "is_executing": true,
     "name": "#%%\n"
    }
   },
   "outputs": [
    {
     "name": "stdout",
     "output_type": "stream",
     "text": [
      "Количество пропусков\n",
      "\n",
      "dire_bottle_time: 16143\n",
      "dire_courier_time: 676\n",
      "dire_first_ward_time: 1826\n",
      "dire_flying_courier_time: 26098\n",
      "first_blood_player1: 19553\n",
      "first_blood_player2: 43987\n",
      "first_blood_team: 19553\n",
      "first_blood_time: 19553\n",
      "radiant_bottle_time: 15691\n",
      "radiant_courier_time: 692\n",
      "radiant_first_ward_time: 1836\n",
      "radiant_flying_courier_time: 27479\n"
     ]
    }
   ],
   "source": [
    "rows = values_count.max()\n",
    "\n",
    "print(\"Количество пропусков\\n\")\n",
    "for (feature, val) in sorted(values_count.iteritems()):\n",
    "    values_missing = rows - val\n",
    "    if values_missing > 0:\n",
    "        print(f\"{feature}: {values_missing}\")"
   ]
  },
  {
   "cell_type": "markdown",
   "metadata": {},
   "source": [
    "Много значений пропущено в колонках, касающихся First Blood (first_blood_player1, first_blood_player2, first_blood_time, first_blood_team). Это значит, что игроки никого не убили за первые 5 минут матча.\n",
    "\n",
    "Пропуски в *_bottle_time, *_courier_time и *_flying_courier_time означают, что соответствующая команда не купила эти предметы за первые 5 минут.\n",
    "\n",
    "Пропуски в *_first_ward_time означают, что команда не поставила ни одного наблюдателя за 5 минут."
   ]
  },
  {
   "cell_type": "code",
   "execution_count": 6,
   "metadata": {
    "pycharm": {
     "is_executing": true
    }
   },
   "outputs": [],
   "source": [
    "features_train = features_train.fillna(value=0)"
   ]
  },
  {
   "cell_type": "markdown",
   "metadata": {},
   "source": [
    "#### 2. Как называется столбец, содержащий целевую переменную?"
   ]
  },
  {
   "cell_type": "code",
   "execution_count": 7,
   "metadata": {
    "pycharm": {
     "is_executing": true
    }
   },
   "outputs": [],
   "source": [
    "Y_col = \"radiant_win\"\n",
    "\n",
    "\n",
    "X = features_train\n",
    "y = features[Y_col]"
   ]
  },
  {
   "cell_type": "markdown",
   "metadata": {},
   "source": [
    "#### 3. Как долго проводилась кросс-валидация для градиентного бустинга с 30 деревьями? Инструкцию по измерению времени можно найти ниже по тексту. Какое качество при этом получилось? Напомним, что в данном задании мы используем метрику качества AUC-ROC."
   ]
  },
  {
   "cell_type": "code",
   "execution_count": 8,
   "metadata": {
    "pycharm": {
     "is_executing": true,
     "name": "#%%\n"
    }
   },
   "outputs": [],
   "source": [
    "kfold = KFold(shuffle=True, n_splits=5)"
   ]
  },
  {
   "cell_type": "raw",
   "metadata": {
    "pycharm": {
     "is_executing": true,
     "name": "#%%\n"
    }
   },
   "source": [
    "for n_estimators in range(30, 70, 10):\n",
    "    print(f\"Обучается классификатор с {n_estimators} деревьями\")\n",
    "    start_time = datetime.now()\n",
    "    clf = GradientBoostingClassifier(n_estimators=n_estimators)\n",
    "    # взятие вероятностей 2 класса (clf.predict_proba(X_test)[:, 1]) вшито в roc_auc скоринг\n",
    "    # [sklearn/metrics/_scorer.py:249]\n",
    "    scores = cross_val_score(estimator=clf, X=features_train, y=y, cv=kfold, scoring=\"roc_auc\")  \n",
    "    avg_score = average(scores)\n",
    "    exec_time = datetime.now() - start_time\n",
    "    print(f\"Среднее значения качества: {avg_score} (за {exec_time}мс)\\n\")"
   ]
  },
  {
   "cell_type": "markdown",
   "metadata": {},
   "source": [
    "Обучается классификатор с 10 деревьями\n",
    "Среднее значения качества: 0.6646291455551827 (за 0:01:12.878092мс)\n",
    "\n",
    "Обучается классификатор с 20 деревьями\n",
    "Среднее значения качества: 0.6809860273308972 (за 0:02:18.501172мс)\n",
    "\n",
    "**Обучается классификатор с 30 деревьями\n",
    "Среднее значения качества: 0.6900458742897161 (за 0:03:09.979634мс)**\n",
    "\n",
    "Обучается классификатор с 40 деревьями\n",
    "Среднее значения качества: 0.694294321131233 (за 0:04:12.675311мс)\n",
    "\n",
    "Обучается классификатор с 50 деревьями\n",
    "Среднее значения качества: 0.6977442051399642 (за 0:05:26.558180мс)\n",
    "\n",
    "Обучается классификатор с 60 деревьями\n",
    "Среднее значения качества: 0.7002027254594443 (за 0:06:49.034804мс)\n",
    "\n",
    "Обучается классификатор с 70 деревьями\n",
    "Среднее значения качества: 0.7019988271689213 (за 0:07:50.472654мс)\n",
    "\n",
    "Обучается классификатор с 80 деревьями\n",
    "Среднее значения качества: 0.7047217159467425 (за 0:09:17.449093мс)\n",
    "\n",
    "Обучается классификатор с 90 деревьями\n",
    "Среднее значения качества: 0.7058723237655931 (за 0:09:42.171533мс)\n",
    "\n",
    "Обучается классификатор с 100 деревьями\n",
    "Среднее значения качества: 0.7069479623025787 (за 0:11:31.993495мс)"
   ]
  },
  {
   "cell_type": "markdown",
   "metadata": {},
   "source": [
    "#### 4. Имеет ли смысл использовать больше 30 деревьев в градиентном бустинге? Что бы вы предложили делать, чтобы ускорить его обучение при увеличении количества деревьев?"
   ]
  },
  {
   "cell_type": "markdown",
   "metadata": {},
   "source": [
    "При количества деревьев больше 30 качество продолжает расти, не медленее. При 80+ рост замедляется ещё сильнее. К тому же, время на обучение начинает заметно увеличиваться.\n",
    "Это значит, что оптимально испольховать 60 деревьев.\n",
    "\n",
    "Чтобы ускорить обучение, можно использовать метод главных компонент."
   ]
  },
  {
   "cell_type": "markdown",
   "metadata": {},
   "source": [
    "### Подход 2: логистическая регрессия"
   ]
  },
  {
   "cell_type": "markdown",
   "metadata": {},
   "source": [
    "Отмасштабируем признаки"
   ]
  },
  {
   "cell_type": "code",
   "execution_count": 34,
   "metadata": {
    "pycharm": {
     "is_executing": true
    },
    "scrolled": true
   },
   "outputs": [],
   "source": [
    "from sklearn.preprocessing import StandardScaler \n",
    "import numpy as np\n",
    "\n",
    "scaler = StandardScaler()\n",
    "X_scaled_array = scaler.fit_transform(X.astype(np.float64))\n",
    "X_scaled = p.DataFrame(data=X_scaled_array, index=X.index, columns=X.columns)"
   ]
  },
  {
   "cell_type": "markdown",
   "metadata": {},
   "source": [
    "**1. Какое качество получилось у логистической регрессии над всеми исходными признаками? Как оно соотносится с качеством градиентного бустинга? Чем вы можете объяснить эту разницу? Быстрее ли работает логистическая регрессия по сравнению с градиентным бустингом?**"
   ]
  },
  {
   "cell_type": "code",
   "execution_count": 49,
   "metadata": {
    "pycharm": {
     "is_executing": true
    }
   },
   "outputs": [],
   "source": [
    "from sklearn.linear_model import LogisticRegressionCV\n",
    "from sklearn.metrics import roc_auc_score\n",
    "\n",
    "def _fit_and_score_(X, c):\n",
    "    ll_clf = LogisticRegressionCV(cv=kfold, penalty='l2')\n",
    "    ll_clf.scoring = \"roc_auc\"\n",
    "    ll_clf.C = c\n",
    "    ll_clf.fit(X, y)\n",
    "    return ll_clf.score(X, y)\n",
    "\n",
    "def fit_log_reg(X):\n",
    "    best_score = None\n",
    "    best_c = None\n",
    "    for c in [0.001, 0.01, 0.1, 1, 10, 100, 1000]:\n",
    "        start_time = datetime.now()\n",
    "        print(f\"Обучается LogisticRegressionCV с C={c}\")\n",
    "        avg_score = _fit_and_score_(X, c)\n",
    "        if best_score is None or avg_score > best_score:\n",
    "            best_score = avg_score\n",
    "            best_c = c\n",
    "        exec_time = datetime.now() - start_time    \n",
    "        print(f\"Средний AUC-ROC = {avg_score} найден за {exec_time}мс\")\n",
    "    return best_score, best_c"
   ]
  },
  {
   "cell_type": "code",
   "execution_count": 11,
   "metadata": {
    "pycharm": {
     "name": "#%%\n"
    }
   },
   "outputs": [
    {
     "name": "stdout",
     "output_type": "stream",
     "text": [
      "Обучается LogisticRegressionCV с C=0.001\n",
      "Средний AUC-ROC = 0.7179728963119072 найден за 0:00:17.117537мс\n",
      "\n",
      "🏆 Лучшее качество логистической регрессии = 0.7179728963119072 (при c=0.001)\n"
     ]
    },
    {
     "name": "stderr",
     "output_type": "stream",
     "text": [
      "/Library/Frameworks/Python.framework/Versions/3.7/lib/python3.7/site-packages/sklearn/linear_model/logistic.py:1926: ChangedBehaviorWarning: The long-standing behavior to use the accuracy score has changed. The scoring parameter is now used. This warning will disappear in version 0.22.\n",
      "  ChangedBehaviorWarning)\n"
     ]
    }
   ],
   "source": [
    "score, c = fit_log_reg(X_scaled_array)\n",
    "print(f\"\\n🏆 Лучшее качество логистической регрессии = {score} (при c={c})\")"
   ]
  },
  {
   "cell_type": "markdown",
   "metadata": {},
   "source": [
    "Обучается LogisticRegressionCV с C=0.001\n",
    "\n",
    "Средний AUC-ROC = 0.7179729170730196 найден за 0:00:16.773102мс\n",
    "\n",
    "Обучается LogisticRegressionCV с C=0.01\n",
    "\n",
    "Средний AUC-ROC = 0.7179728564844672 найден за 0:00:20.311600мс\n",
    "\n",
    "Обучается LogisticRegressionCV с C=0.1\n",
    "\n",
    "Средний AUC-ROC = 0.717972838689228 найден за 0:00:15.899149мс\n",
    "\n",
    "Обучается LogisticRegressionCV с C=1\n",
    "\n",
    "Средний AUC-ROC = 0.7179728691953522 найден за 0:00:17.425479мс\n",
    "\n",
    "Обучается LogisticRegressionCV с C=10\n",
    "\n",
    "Средний AUC-ROC = 0.7179727874219914 найден за 0:00:17.189627мс\n",
    "\n",
    "Обучается LogisticRegressionCV с C=100\n",
    "\n",
    "Средний AUC-ROC = 0.7179726874296952 найден за 0:00:20.913687мс\n",
    "\n",
    "Обучается LogisticRegressionCV с C=1000\n",
    "\n",
    "Средний AUC-ROC = 0.7179727255623505 найден за 0:00:17.378154мс\n",
    "\n",
    "\n",
    "🏆 Лучшее качество логистической регрессии = 0.7179729170730196 (при c=0.001)"
   ]
  },
  {
   "cell_type": "markdown",
   "metadata": {},
   "source": [
    "Качество регрессии получилось примерно таким же, как при бустинге (~0.7). Я думаю, это обусловлено тем, что я никак не изменил датасет (не считая масштабирования). Но регрессия работает примерно в 20 раз быстрее бустинга — около 20 секунд против 7 минут."
   ]
  },
  {
   "cell_type": "markdown",
   "metadata": {},
   "source": [
    "**2. Как влияет на качество логистической регрессии удаление категориальных признаков (укажите новое значение метрики качества)? Чем вы можете объяснить это изменение?**"
   ]
  },
  {
   "cell_type": "markdown",
   "metadata": {},
   "source": [
    "Уберем категориальные признаки из выборки"
   ]
  },
  {
   "cell_type": "code",
   "execution_count": 28,
   "metadata": {},
   "outputs": [
    {
     "data": {
      "text/plain": [
       "['r1_hero',\n",
       " 'd1_hero',\n",
       " 'r2_hero',\n",
       " 'd2_hero',\n",
       " 'r3_hero',\n",
       " 'd3_hero',\n",
       " 'r4_hero',\n",
       " 'd4_hero',\n",
       " 'r5_hero',\n",
       " 'd5_hero',\n",
       " 'lobby_type']"
      ]
     },
     "execution_count": 28,
     "metadata": {},
     "output_type": "execute_result"
    }
   ],
   "source": [
    "from itertools import chain\n",
    "\n",
    "categorial_features = list(chain.from_iterable((f\"r{i}_hero\", f\"d{i}_hero\") for i in range(1, 6))) # heroes\n",
    "categorial_features += [\"lobby_type\"]"
   ]
  },
  {
   "cell_type": "code",
   "execution_count": 51,
   "metadata": {},
   "outputs": [],
   "source": [
    "X_with_no_categorial_features = X_scaled.filter([x for x in X_scaled.columns if x not in categorial_features])"
   ]
  },
  {
   "cell_type": "markdown",
   "metadata": {},
   "source": [
    "Обучим регрессию на выборке без категориальных признаков"
   ]
  },
  {
   "cell_type": "code",
   "execution_count": 52,
   "metadata": {},
   "outputs": [
    {
     "name": "stdout",
     "output_type": "stream",
     "text": [
      "Обучается LogisticRegressionCV с C=0.001\n"
     ]
    },
    {
     "name": "stderr",
     "output_type": "stream",
     "text": [
      "/Library/Frameworks/Python.framework/Versions/3.7/lib/python3.7/site-packages/sklearn/linear_model/logistic.py:1926: ChangedBehaviorWarning: The long-standing behavior to use the accuracy score has changed. The scoring parameter is now used. This warning will disappear in version 0.22.\n",
      "  ChangedBehaviorWarning)\n"
     ]
    },
    {
     "name": "stdout",
     "output_type": "stream",
     "text": [
      "Средний AUC-ROC = 0.7178320660603478 найден за 0:00:24.490037мс\n",
      "Обучается LogisticRegressionCV с C=0.01\n"
     ]
    },
    {
     "name": "stderr",
     "output_type": "stream",
     "text": [
      "/Library/Frameworks/Python.framework/Versions/3.7/lib/python3.7/site-packages/sklearn/linear_model/logistic.py:1926: ChangedBehaviorWarning: The long-standing behavior to use the accuracy score has changed. The scoring parameter is now used. This warning will disappear in version 0.22.\n",
      "  ChangedBehaviorWarning)\n"
     ]
    },
    {
     "name": "stdout",
     "output_type": "stream",
     "text": [
      "Средний AUC-ROC = 0.7178321808820098 найден за 0:00:24.551775мс\n",
      "Обучается LogisticRegressionCV с C=0.1\n"
     ]
    },
    {
     "name": "stderr",
     "output_type": "stream",
     "text": [
      "/Library/Frameworks/Python.framework/Versions/3.7/lib/python3.7/site-packages/sklearn/linear_model/logistic.py:1926: ChangedBehaviorWarning: The long-standing behavior to use the accuracy score has changed. The scoring parameter is now used. This warning will disappear in version 0.22.\n",
      "  ChangedBehaviorWarning)\n"
     ]
    },
    {
     "name": "stdout",
     "output_type": "stream",
     "text": [
      "Средний AUC-ROC = 0.717832158849809 найден за 0:00:18.416239мс\n",
      "Обучается LogisticRegressionCV с C=1\n"
     ]
    },
    {
     "name": "stderr",
     "output_type": "stream",
     "text": [
      "/Library/Frameworks/Python.framework/Versions/3.7/lib/python3.7/site-packages/sklearn/linear_model/logistic.py:1926: ChangedBehaviorWarning: The long-standing behavior to use the accuracy score has changed. The scoring parameter is now used. This warning will disappear in version 0.22.\n",
      "  ChangedBehaviorWarning)\n"
     ]
    },
    {
     "name": "stdout",
     "output_type": "stream",
     "text": [
      "Средний AUC-ROC = 0.7178321050403953 найден за 0:00:20.210441мс\n",
      "Обучается LogisticRegressionCV с C=10\n"
     ]
    },
    {
     "name": "stderr",
     "output_type": "stream",
     "text": [
      "/Library/Frameworks/Python.framework/Versions/3.7/lib/python3.7/site-packages/sklearn/linear_model/logistic.py:1926: ChangedBehaviorWarning: The long-standing behavior to use the accuracy score has changed. The scoring parameter is now used. This warning will disappear in version 0.22.\n",
      "  ChangedBehaviorWarning)\n"
     ]
    },
    {
     "name": "stdout",
     "output_type": "stream",
     "text": [
      "Средний AUC-ROC = 0.7178320423333622 найден за 0:00:19.306442мс\n",
      "Обучается LogisticRegressionCV с C=100\n"
     ]
    },
    {
     "name": "stderr",
     "output_type": "stream",
     "text": [
      "/Library/Frameworks/Python.framework/Versions/3.7/lib/python3.7/site-packages/sklearn/linear_model/logistic.py:1926: ChangedBehaviorWarning: The long-standing behavior to use the accuracy score has changed. The scoring parameter is now used. This warning will disappear in version 0.22.\n",
      "  ChangedBehaviorWarning)\n"
     ]
    },
    {
     "name": "stdout",
     "output_type": "stream",
     "text": [
      "Средний AUC-ROC = 0.7178320800423214 найден за 0:00:17.976316мс\n",
      "Обучается LogisticRegressionCV с C=1000\n",
      "Средний AUC-ROC = 0.7178320122509341 найден за 0:00:21.832287мс\n",
      "🏆 Лучшее качество на выборке без категориальных признаков: 0.7178321808820098 (c=0.001)\n"
     ]
    },
    {
     "name": "stderr",
     "output_type": "stream",
     "text": [
      "/Library/Frameworks/Python.framework/Versions/3.7/lib/python3.7/site-packages/sklearn/linear_model/logistic.py:1926: ChangedBehaviorWarning: The long-standing behavior to use the accuracy score has changed. The scoring parameter is now used. This warning will disappear in version 0.22.\n",
      "  ChangedBehaviorWarning)\n"
     ]
    }
   ],
   "source": [
    "score, с = fit_log_reg(X_with_no_categorial_features)\n",
    "print(f\"🏆 Лучшее качество на выборке без категориальных признаков: {score} (c={c})\")"
   ]
  },
  {
   "cell_type": "markdown",
   "metadata": {},
   "source": [
    "Качество получилось чуть хуже, чем на выборке с категориальными признаками (0.7178). Возможно, оно не изменилось потому, что эти признаки не влияли на результат."
   ]
  }
 ],
 "metadata": {
  "kernelspec": {
   "display_name": "Python 3",
   "language": "python",
   "name": "python3"
  },
  "language_info": {
   "codemirror_mode": {
    "name": "ipython",
    "version": 3
   },
   "file_extension": ".py",
   "mimetype": "text/x-python",
   "name": "python",
   "nbconvert_exporter": "python",
   "pygments_lexer": "ipython3",
   "version": "3.7.1"
  },
  "pycharm": {
   "stem_cell": {
    "cell_type": "raw",
    "metadata": {
     "collapsed": false
    },
    "source": []
   }
  }
 },
 "nbformat": 4,
 "nbformat_minor": 1
}
